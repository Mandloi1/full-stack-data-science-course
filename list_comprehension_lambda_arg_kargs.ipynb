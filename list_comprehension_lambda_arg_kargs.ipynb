{
 "cells": [
  {
   "cell_type": "code",
   "execution_count": null,
   "id": "20987d1d-294f-40a8-b5dc-879e869e6911",
   "metadata": {},
   "outputs": [],
   "source": [
    "##python functional Arguments\n",
    "#positional Arguments"
   ]
  },
  {
   "cell_type": "code",
   "execution_count": 2,
   "id": "95917602-d9a0-45f6-bac7-179ec3e16755",
   "metadata": {},
   "outputs": [],
   "source": [
    "def add_numbers(a,b):\n",
    "    sum=a+b\n",
    "    print(\"sum\",sum)"
   ]
  },
  {
   "cell_type": "code",
   "execution_count": 4,
   "id": "6ee165bc-728b-4ab8-b8db-5cb978cc4b29",
   "metadata": {},
   "outputs": [
    {
     "name": "stdout",
     "output_type": "stream",
     "text": [
      "sum 5\n"
     ]
    }
   ],
   "source": [
    "add_numbers(2,3)"
   ]
  },
  {
   "cell_type": "code",
   "execution_count": 5,
   "id": "a990cafb-b3c9-4913-a482-c01307f2e106",
   "metadata": {},
   "outputs": [],
   "source": [
    "#default arguments\n",
    "def add_numbers(a=3,b=6):\n",
    "    sum=a+b\n",
    "    print(\"sum\",sum)"
   ]
  },
  {
   "cell_type": "code",
   "execution_count": 6,
   "id": "2a40f8cc-ab05-4d07-ac34-16176791e553",
   "metadata": {},
   "outputs": [
    {
     "name": "stdout",
     "output_type": "stream",
     "text": [
      "sum 9\n"
     ]
    }
   ],
   "source": [
    "add_numbers()"
   ]
  },
  {
   "cell_type": "code",
   "execution_count": 7,
   "id": "de10c894-afdf-4b04-a86c-5e4bf647b958",
   "metadata": {},
   "outputs": [
    {
     "name": "stdout",
     "output_type": "stream",
     "text": [
      "sum 13\n"
     ]
    }
   ],
   "source": [
    "add_numbers(5,8)"
   ]
  },
  {
   "cell_type": "code",
   "execution_count": null,
   "id": "73bbc472-1f67-4b92-ad9a-46a8ab53859a",
   "metadata": {},
   "outputs": [],
   "source": [
    "#Key word arguments"
   ]
  },
  {
   "cell_type": "code",
   "execution_count": 8,
   "id": "3fa810da-e218-48df-a130-537066e818a0",
   "metadata": {},
   "outputs": [],
   "source": [
    "def dis_info(first_name,last_name):\n",
    "    print(\"first name\",first_name)\n",
    "    print(\"last name\",last_name)"
   ]
  },
  {
   "cell_type": "code",
   "execution_count": 9,
   "id": "66e824c2-4758-46d1-81f2-fc89d695e53f",
   "metadata": {},
   "outputs": [
    {
     "name": "stdout",
     "output_type": "stream",
     "text": [
      "first name pw\n",
      "last name skills\n"
     ]
    }
   ],
   "source": [
    "dis_info(first_name=\"pw\",last_name=\"skills\")#oder of arguments doesnot important"
   ]
  },
  {
   "cell_type": "code",
   "execution_count": null,
   "id": "e395ab77-371c-417c-b134-be3ffe35456d",
   "metadata": {},
   "outputs": [],
   "source": [
    "#*args and **kargs"
   ]
  },
  {
   "cell_type": "code",
   "execution_count": 14,
   "id": "a9a6f5f1-683d-43a8-bbf6-ed1f5e34c25d",
   "metadata": {},
   "outputs": [],
   "source": [
    "def find_sum(*nums):\n",
    "    result=0\n",
    "    for i in nums:\n",
    "        result+=i\n",
    "    print(\"sum\",result)"
   ]
  },
  {
   "cell_type": "code",
   "execution_count": 15,
   "id": "0e3e389a-bb7b-4983-91fd-ffaf618c206d",
   "metadata": {},
   "outputs": [
    {
     "name": "stdout",
     "output_type": "stream",
     "text": [
      "sum 0\n"
     ]
    }
   ],
   "source": [
    "find_sum()"
   ]
  },
  {
   "cell_type": "code",
   "execution_count": 16,
   "id": "ea988a78-7ce6-4cfb-a359-de6b72524da7",
   "metadata": {},
   "outputs": [
    {
     "name": "stdout",
     "output_type": "stream",
     "text": [
      "sum 1113\n"
     ]
    }
   ],
   "source": [
    "find_sum(54,76,21,908,54)"
   ]
  },
  {
   "cell_type": "code",
   "execution_count": 17,
   "id": "e040534a-e358-4591-9a98-8311a50cb769",
   "metadata": {},
   "outputs": [],
   "source": [
    "def intro(**data):\n",
    "    print(\"data type of argument\",type(data))\n",
    "    for key,values in data.items():\n",
    "        print(key,values)"
   ]
  },
  {
   "cell_type": "code",
   "execution_count": 22,
   "id": "b71d0c90-5c2e-4af8-8496-1a293c872d98",
   "metadata": {},
   "outputs": [
    {
     "name": "stdout",
     "output_type": "stream",
     "text": [
      "data type of argument <class 'dict'>\n",
      "firstname pw\n",
      "lastname skills\n"
     ]
    }
   ],
   "source": [
    "intro(firstname='pw',lastname='skills')"
   ]
  },
  {
   "cell_type": "code",
   "execution_count": 26,
   "id": "f5215439-9377-4edc-a9aa-a8083508fcc0",
   "metadata": {},
   "outputs": [],
   "source": [
    "def simple(**x):\n",
    "    print(x)    "
   ]
  },
  {
   "cell_type": "code",
   "execution_count": 27,
   "id": "252f8e3a-5848-4b5d-855a-9322a7c7882e",
   "metadata": {},
   "outputs": [
    {
     "name": "stdout",
     "output_type": "stream",
     "text": [
      "{'name': 'imran', 'age': 24, 'id_no': 23}\n"
     ]
    }
   ],
   "source": [
    "simple(name='imran',age=24,id_no=23)"
   ]
  },
  {
   "cell_type": "code",
   "execution_count": null,
   "id": "779246e6-929a-4d1b-89d0-7049e732987c",
   "metadata": {},
   "outputs": [],
   "source": [
    "###____________________________________ Lambda function_____________________"
   ]
  },
  {
   "cell_type": "code",
   "execution_count": null,
   "id": "0ad5b11c-515e-4c3a-a577-3fee5e19e8d0",
   "metadata": {},
   "outputs": [],
   "source": [
    "''' anonymous function \n",
    "   lambda keyword  arguments expression'''"
   ]
  },
  {
   "cell_type": "code",
   "execution_count": 28,
   "id": "168545e9-65be-431d-87d8-db92cf179189",
   "metadata": {},
   "outputs": [],
   "source": [
    "y=lambda : print(\"pw skills\")"
   ]
  },
  {
   "cell_type": "code",
   "execution_count": 29,
   "id": "eef740b2-6490-4fa9-a24e-d0034223365f",
   "metadata": {},
   "outputs": [
    {
     "name": "stdout",
     "output_type": "stream",
     "text": [
      "pw skills\n"
     ]
    }
   ],
   "source": [
    "y()"
   ]
  },
  {
   "cell_type": "code",
   "execution_count": 30,
   "id": "531ba105-1ed1-4332-aeca-fa62a62a3ad8",
   "metadata": {},
   "outputs": [],
   "source": [
    "addnum=lambda a,b:a+b"
   ]
  },
  {
   "cell_type": "code",
   "execution_count": 31,
   "id": "fe04106c-1127-4731-93db-8dc2c61467e0",
   "metadata": {},
   "outputs": [
    {
     "data": {
      "text/plain": [
       "7"
      ]
     },
     "execution_count": 31,
     "metadata": {},
     "output_type": "execute_result"
    }
   ],
   "source": [
    "addnum(2,5)"
   ]
  },
  {
   "cell_type": "code",
   "execution_count": 35,
   "id": "8765d09c-2be6-4a91-89e8-9a2b5dce35d9",
   "metadata": {},
   "outputs": [
    {
     "name": "stdin",
     "output_type": "stream",
     "text": [
      "enter first number  2 \n",
      "enter second number 4\n"
     ]
    },
    {
     "name": "stdout",
     "output_type": "stream",
     "text": [
      "(4, 16)\n"
     ]
    }
   ],
   "source": [
    "a=int(input(\"enter first number \"))\n",
    "b=int(input(\"enter second number\"))\n",
    "squr=lambda a,b:(a**2,b**2)\n",
    "print(squr(a,b))"
   ]
  },
  {
   "cell_type": "code",
   "execution_count": 36,
   "id": "d092569c-4e07-4fb7-aa27-99eee3a57fac",
   "metadata": {},
   "outputs": [],
   "source": [
    "x=lambda n: \"true\" if n%2==0 else \"false\""
   ]
  },
  {
   "cell_type": "code",
   "execution_count": 38,
   "id": "10022c0f-5d6e-47f3-9992-7d223d2d5a91",
   "metadata": {},
   "outputs": [
    {
     "data": {
      "text/plain": [
       "'true'"
      ]
     },
     "execution_count": 38,
     "metadata": {},
     "output_type": "execute_result"
    }
   ],
   "source": [
    "x(6)"
   ]
  },
  {
   "cell_type": "code",
   "execution_count": 39,
   "id": "74a95468-0843-422e-9598-c6497025a301",
   "metadata": {},
   "outputs": [],
   "source": [
    "greater=lambda a,b: a if a>b else b"
   ]
  },
  {
   "cell_type": "code",
   "execution_count": 40,
   "id": "3c973ead-906f-4c6c-b33a-de592741fb6f",
   "metadata": {},
   "outputs": [
    {
     "data": {
      "text/plain": [
       "8"
      ]
     },
     "execution_count": 40,
     "metadata": {},
     "output_type": "execute_result"
    }
   ],
   "source": [
    "greater(2,8)"
   ]
  },
  {
   "cell_type": "code",
   "execution_count": 41,
   "id": "a0e67b13-39bb-41e7-9fde-07d7379ba5b2",
   "metadata": {},
   "outputs": [],
   "source": [
    "sum_t=lambda a,b,c: a+b+c"
   ]
  },
  {
   "cell_type": "raw",
   "id": "97a19c0b-9cad-49cb-b3da-af759acc2f6d",
   "metadata": {},
   "source": [
    "sum_t(2,5,8)"
   ]
  },
  {
   "cell_type": "code",
   "execution_count": 44,
   "id": "e2f5e506-935b-45b5-ab92-870bf6aa6ae0",
   "metadata": {},
   "outputs": [],
   "source": [
    "products=[\n",
    "    {\"name\":'product1','price':50},\n",
    "    {\"name\":'product2','price':40},\n",
    "    {\"name\":'product3','price':20},\n",
    "    {\"name\":'product4','price':10}]"
   ]
  },
  {
   "cell_type": "code",
   "execution_count": 52,
   "id": "0085c029-bd29-46e4-b76a-0efd2089670c",
   "metadata": {},
   "outputs": [],
   "source": [
    "#sorted()\n",
    "\n",
    "sorted_products=sorted(products, key=lambda x:x['price'],reverse=True)"
   ]
  },
  {
   "cell_type": "code",
   "execution_count": 53,
   "id": "278d3ef3-af11-402e-9079-df360cb81b79",
   "metadata": {},
   "outputs": [
    {
     "name": "stdout",
     "output_type": "stream",
     "text": [
      "[{'name': 'product1', 'price': 50}, {'name': 'product2', 'price': 40}, {'name': 'product3', 'price': 20}, {'name': 'product4', 'price': 10}]\n"
     ]
    }
   ],
   "source": [
    "print(sorted_products)"
   ]
  },
  {
   "cell_type": "code",
   "execution_count": null,
   "id": "2f28f27f-3532-429c-bca0-b1b454e9565c",
   "metadata": {},
   "outputs": [],
   "source": [
    "#write the lambda expresion that accepsts argument string and character return true if vowel or false"
   ]
  },
  {
   "cell_type": "code",
   "execution_count": 56,
   "id": "4ee45219-1f3a-4d91-a53c-583519e6eefc",
   "metadata": {},
   "outputs": [
    {
     "name": "stdin",
     "output_type": "stream",
     "text": [
      "enter the character m\n"
     ]
    }
   ],
   "source": [
    "n=input(\"enter the character\")\n",
    "vowels=lambda n: True if x in set('aeiou') else False"
   ]
  },
  {
   "cell_type": "code",
   "execution_count": 59,
   "id": "f555f5db-d9ca-4b8f-ba79-35ab760b0f63",
   "metadata": {},
   "outputs": [
    {
     "data": {
      "text/plain": [
       "140277032518000"
      ]
     },
     "execution_count": 59,
     "metadata": {},
     "output_type": "execute_result"
    }
   ],
   "source": [
    "#Built in function\n",
    "#id\n",
    "x=5\n",
    "id(x)"
   ]
  },
  {
   "cell_type": "code",
   "execution_count": 60,
   "id": "5a7e88c4-ef77-417e-92f4-64a2d790b066",
   "metadata": {},
   "outputs": [],
   "source": [
    "y=6\n",
    "z=str(y)"
   ]
  },
  {
   "cell_type": "code",
   "execution_count": 61,
   "id": "acc53997-36ce-4363-b125-685645bcc12e",
   "metadata": {},
   "outputs": [
    {
     "data": {
      "text/plain": [
       "str"
      ]
     },
     "execution_count": 61,
     "metadata": {},
     "output_type": "execute_result"
    }
   ],
   "source": [
    "type(z)"
   ]
  },
  {
   "cell_type": "code",
   "execution_count": 63,
   "id": "45af0475-8f83-47d0-8718-cfcf5085b825",
   "metadata": {},
   "outputs": [
    {
     "data": {
      "text/plain": [
       "90"
      ]
     },
     "execution_count": 63,
     "metadata": {},
     "output_type": "execute_result"
    }
   ],
   "source": [
    "l=[10,34,90]\n",
    "y=max(l)\n",
    "y"
   ]
  },
  {
   "cell_type": "code",
   "execution_count": 64,
   "id": "ac148cd1-d705-49ae-bdd4-ce79a63ed9fe",
   "metadata": {},
   "outputs": [],
   "source": [
    "language=[\"python\",\"java\",\"sas\"]"
   ]
  },
  {
   "cell_type": "code",
   "execution_count": 65,
   "id": "875fa2a0-2903-45d6-ab05-033012eeb5f0",
   "metadata": {},
   "outputs": [],
   "source": [
    "enumerate_prime=enumerate(language,20)"
   ]
  },
  {
   "cell_type": "code",
   "execution_count": 66,
   "id": "29e0eb0f-a096-4325-a678-028ade149410",
   "metadata": {},
   "outputs": [
    {
     "data": {
      "text/plain": [
       "[(20, 'python'), (21, 'java'), (22, 'sas')]"
      ]
     },
     "execution_count": 66,
     "metadata": {},
     "output_type": "execute_result"
    }
   ],
   "source": [
    "list(enumerate_prime)"
   ]
  },
  {
   "cell_type": "code",
   "execution_count": null,
   "id": "ba55401d-89f9-41aa-b56a-f156261133f5",
   "metadata": {},
   "outputs": [],
   "source": [
    "## list comprehension-create new iterable object from existing iterable object\n",
    "#syntex - [output| collection|condition]"
   ]
  },
  {
   "cell_type": "code",
   "execution_count": 68,
   "id": "7d5081b0-6ce7-4c75-ae74-fc97097dc429",
   "metadata": {},
   "outputs": [],
   "source": [
    "lst=[1,2,3,4,5,6,7,8,9,10]"
   ]
  },
  {
   "cell_type": "code",
   "execution_count": 69,
   "id": "cede0480-9161-43e8-9f27-038a69a952ec",
   "metadata": {},
   "outputs": [],
   "source": [
    "a=[x for x in lst]"
   ]
  },
  {
   "cell_type": "code",
   "execution_count": 70,
   "id": "aa7454dd-e8b3-4d38-a90e-cf6f472a8995",
   "metadata": {},
   "outputs": [
    {
     "data": {
      "text/plain": [
       "[1, 2, 3, 4, 5, 6, 7, 8, 9, 10]"
      ]
     },
     "execution_count": 70,
     "metadata": {},
     "output_type": "execute_result"
    }
   ],
   "source": [
    "a"
   ]
  },
  {
   "cell_type": "code",
   "execution_count": 71,
   "id": "ec5db11a-f9ad-47ac-abfd-543f2ea23276",
   "metadata": {},
   "outputs": [],
   "source": [
    "a=[x+1 for x in lst]"
   ]
  },
  {
   "cell_type": "code",
   "execution_count": 72,
   "id": "1f5cbb5f-0da1-4e21-931e-575082610a9b",
   "metadata": {},
   "outputs": [
    {
     "data": {
      "text/plain": [
       "[2, 3, 4, 5, 6, 7, 8, 9, 10, 11]"
      ]
     },
     "execution_count": 72,
     "metadata": {},
     "output_type": "execute_result"
    }
   ],
   "source": [
    "a"
   ]
  },
  {
   "cell_type": "code",
   "execution_count": 73,
   "id": "0632f58d-9a15-439a-8d25-25ad8de4f425",
   "metadata": {},
   "outputs": [],
   "source": [
    "a=[x**2 for x in lst]"
   ]
  },
  {
   "cell_type": "code",
   "execution_count": 74,
   "id": "f501c571-6400-4705-b264-90a5252d072e",
   "metadata": {},
   "outputs": [
    {
     "data": {
      "text/plain": [
       "[1, 4, 9, 16, 25, 36, 49, 64, 81, 100]"
      ]
     },
     "execution_count": 74,
     "metadata": {},
     "output_type": "execute_result"
    }
   ],
   "source": [
    "a"
   ]
  },
  {
   "cell_type": "code",
   "execution_count": 75,
   "id": "980d75b5-1539-44d8-8cf6-16d1a4e4746d",
   "metadata": {},
   "outputs": [],
   "source": [
    "a=[x for x in lst if x>4]"
   ]
  },
  {
   "cell_type": "code",
   "execution_count": 76,
   "id": "7e54eb65-8870-409b-b8d2-392acd4e8887",
   "metadata": {},
   "outputs": [
    {
     "data": {
      "text/plain": [
       "[5, 6, 7, 8, 9, 10]"
      ]
     },
     "execution_count": 76,
     "metadata": {},
     "output_type": "execute_result"
    }
   ],
   "source": [
    "a"
   ]
  },
  {
   "cell_type": "code",
   "execution_count": 77,
   "id": "7bd37cb8-5c87-47ea-ba98-54bfd509e8eb",
   "metadata": {},
   "outputs": [],
   "source": [
    "a=[]\n",
    "\n",
    "for x in lst:\n",
    "    if x>4:\n",
    "        a.append(x)"
   ]
  },
  {
   "cell_type": "code",
   "execution_count": 78,
   "id": "fa5f7d8b-c836-4b39-9430-ac355b2da3bd",
   "metadata": {},
   "outputs": [
    {
     "data": {
      "text/plain": [
       "[5, 6, 7, 8, 9, 10]"
      ]
     },
     "execution_count": 78,
     "metadata": {},
     "output_type": "execute_result"
    }
   ],
   "source": [
    "a"
   ]
  },
  {
   "cell_type": "code",
   "execution_count": 79,
   "id": "81b86965-d26a-4cb6-9920-ee6b4ca44f15",
   "metadata": {},
   "outputs": [],
   "source": [
    "a=[x for x in lst if x%2==0]"
   ]
  },
  {
   "cell_type": "code",
   "execution_count": 80,
   "id": "606ba638-a797-4881-9716-890265ff33f5",
   "metadata": {},
   "outputs": [
    {
     "data": {
      "text/plain": [
       "[2, 4, 6, 8, 10]"
      ]
     },
     "execution_count": 80,
     "metadata": {},
     "output_type": "execute_result"
    }
   ],
   "source": [
    "a"
   ]
  },
  {
   "cell_type": "code",
   "execution_count": 81,
   "id": "8b15cea3-d9af-4c88-bc15-a3afef6588e7",
   "metadata": {},
   "outputs": [],
   "source": [
    "d=[x for x in lst if x>4 if x%2==0]"
   ]
  },
  {
   "cell_type": "code",
   "execution_count": 82,
   "id": "f528712e-f4c5-4fb9-b666-1cd88dd6c603",
   "metadata": {},
   "outputs": [
    {
     "data": {
      "text/plain": [
       "[6, 8, 10]"
      ]
     },
     "execution_count": 82,
     "metadata": {},
     "output_type": "execute_result"
    }
   ],
   "source": [
    "d"
   ]
  },
  {
   "cell_type": "code",
   "execution_count": 85,
   "id": "d481c49a-eefa-48ca-b188-2ce9b4e3bb9e",
   "metadata": {},
   "outputs": [],
   "source": [
    "a=[]\n",
    "for i in lst:\n",
    "    if i>4 and i%2==0:\n",
    "        a.append(i)        "
   ]
  },
  {
   "cell_type": "code",
   "execution_count": 86,
   "id": "d79d0358-8762-41c0-8cdf-33a2b87b6e3c",
   "metadata": {},
   "outputs": [
    {
     "data": {
      "text/plain": [
       "[6, 8, 10]"
      ]
     },
     "execution_count": 86,
     "metadata": {},
     "output_type": "execute_result"
    }
   ],
   "source": [
    "a"
   ]
  },
  {
   "cell_type": "code",
   "execution_count": 87,
   "id": "9a37f57e-a52b-4ee7-9143-31ea40f33b28",
   "metadata": {},
   "outputs": [],
   "source": [
    "e=[x if x>4 else 'lessthan4' for x in lst]"
   ]
  },
  {
   "cell_type": "code",
   "execution_count": 88,
   "id": "6590520c-74f3-4308-adef-cc0f0bca684e",
   "metadata": {},
   "outputs": [
    {
     "data": {
      "text/plain": [
       "['lessthan4', 'lessthan4', 'lessthan4', 'lessthan4', 5, 6, 7, 8, 9, 10]"
      ]
     },
     "execution_count": 88,
     "metadata": {},
     "output_type": "execute_result"
    }
   ],
   "source": [
    "e"
   ]
  },
  {
   "cell_type": "code",
   "execution_count": 89,
   "id": "58c3e5bd-10b2-44be-89c4-23f590b8a2f1",
   "metadata": {},
   "outputs": [],
   "source": [
    "a=[]\n",
    "\n",
    "for i in lst:\n",
    "    if i>4:\n",
    "        a.append(i)\n",
    "    else:\n",
    "        a.append(\"less than 4\")"
   ]
  },
  {
   "cell_type": "code",
   "execution_count": 90,
   "id": "e7c02764-bb84-4ce6-a5e5-898387850c71",
   "metadata": {},
   "outputs": [
    {
     "data": {
      "text/plain": [
       "['less than 4', 'less than 4', 'less than 4', 'less than 4', 5, 6, 7, 8, 9, 10]"
      ]
     },
     "execution_count": 90,
     "metadata": {},
     "output_type": "execute_result"
    }
   ],
   "source": [
    "a"
   ]
  },
  {
   "cell_type": "code",
   "execution_count": 91,
   "id": "35f937f8-400a-4095-97d6-18f53e6ca844",
   "metadata": {},
   "outputs": [],
   "source": [
    "f=[\"two\" if x%2==0 else \"three\" if x%3==0 else \"not a & b\" for x in lst]"
   ]
  },
  {
   "cell_type": "code",
   "execution_count": 92,
   "id": "cae1b135-7c85-4804-bacb-955fbe94cc75",
   "metadata": {},
   "outputs": [
    {
     "data": {
      "text/plain": [
       "['not a & b',\n",
       " 'two',\n",
       " 'three',\n",
       " 'two',\n",
       " 'not a & b',\n",
       " 'two',\n",
       " 'not a & b',\n",
       " 'two',\n",
       " 'three',\n",
       " 'two']"
      ]
     },
     "execution_count": 92,
     "metadata": {},
     "output_type": "execute_result"
    }
   ],
   "source": [
    "f"
   ]
  },
  {
   "cell_type": "code",
   "execution_count": 93,
   "id": "3a23b695-c49c-4847-82da-a085ba59edcb",
   "metadata": {},
   "outputs": [],
   "source": [
    "a=[]\n",
    "for x in lst:\n",
    "    if x%2==0:\n",
    "        a.append(\"two\")\n",
    "    elif x%3==0:\n",
    "        a.append(\"three\")\n",
    "    else:\n",
    "        a.append(\"not a & b\")"
   ]
  },
  {
   "cell_type": "code",
   "execution_count": 94,
   "id": "f73c9c19-bbdc-4216-827d-fbe43ab53997",
   "metadata": {},
   "outputs": [
    {
     "data": {
      "text/plain": [
       "['not a & b',\n",
       " 'two',\n",
       " 'three',\n",
       " 'two',\n",
       " 'not a & b',\n",
       " 'two',\n",
       " 'not a & b',\n",
       " 'two',\n",
       " 'three',\n",
       " 'two']"
      ]
     },
     "execution_count": 94,
     "metadata": {},
     "output_type": "execute_result"
    }
   ],
   "source": [
    "a"
   ]
  }
 ],
 "metadata": {
  "kernelspec": {
   "display_name": "Python 3 (ipykernel)",
   "language": "python",
   "name": "python3"
  },
  "language_info": {
   "codemirror_mode": {
    "name": "ipython",
    "version": 3
   },
   "file_extension": ".py",
   "mimetype": "text/x-python",
   "name": "python",
   "nbconvert_exporter": "python",
   "pygments_lexer": "ipython3",
   "version": "3.10.8"
  }
 },
 "nbformat": 4,
 "nbformat_minor": 5
}
