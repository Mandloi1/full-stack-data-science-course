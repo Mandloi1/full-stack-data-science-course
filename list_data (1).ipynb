{
 "cells": [
  {
   "cell_type": "code",
   "execution_count": 7,
   "id": "79970829-f38b-420b-9ad8-17a18e7f2552",
   "metadata": {},
   "outputs": [],
   "source": [
    "#List\n",
    "l=[]\n",
    "type(l)\n",
    "l1=[1,2,3,4,5,\"monika\",\"mandloi\",True,3445.686,[4,5,6,7]]\n",
    "l1\n",
    "type(l1)\n",
    "\n",
    "l2=[6,8,9,\"pwskills\",\"vaku\"]"
   ]
  },
  {
   "cell_type": "code",
   "execution_count": 8,
   "id": "b65731c3-856a-4960-a0ba-1b868159f067",
   "metadata": {},
   "outputs": [
    {
     "data": {
      "text/plain": [
       "[4, 5, 6, 7]"
      ]
     },
     "execution_count": 8,
     "metadata": {},
     "output_type": "execute_result"
    }
   ],
   "source": [
    "l1[-1]"
   ]
  },
  {
   "cell_type": "code",
   "execution_count": 9,
   "id": "32fb188d-99ad-47e0-a149-8760cc8d54cd",
   "metadata": {},
   "outputs": [
    {
     "data": {
      "text/plain": [
       "6"
      ]
     },
     "execution_count": 9,
     "metadata": {},
     "output_type": "execute_result"
    }
   ],
   "source": [
    "l1[-1][2]"
   ]
  },
  {
   "cell_type": "code",
   "execution_count": 10,
   "id": "a109f480-e117-4676-ad43-11faf7ba9aca",
   "metadata": {},
   "outputs": [
    {
     "data": {
      "text/plain": [
       "[1, 2, 3, 4, 5]"
      ]
     },
     "execution_count": 10,
     "metadata": {},
     "output_type": "execute_result"
    }
   ],
   "source": [
    "l1[0:5]"
   ]
  },
  {
   "cell_type": "code",
   "execution_count": 11,
   "id": "62965166-1078-4ecd-aeb3-f5a6f5c1e44d",
   "metadata": {},
   "outputs": [],
   "source": [
    "l2=[6,8,9,\"pwskills\",\"vaku\"]"
   ]
  },
  {
   "cell_type": "code",
   "execution_count": 12,
   "id": "a8d6e4b2-1f26-45ea-b6df-3ad90b5a67c6",
   "metadata": {},
   "outputs": [
    {
     "data": {
      "text/plain": [
       "[1,\n",
       " 2,\n",
       " 3,\n",
       " 4,\n",
       " 5,\n",
       " 'monika',\n",
       " 'mandloi',\n",
       " True,\n",
       " 3445.686,\n",
       " [4, 5, 6, 7],\n",
       " 6,\n",
       " 8,\n",
       " 9,\n",
       " 'pwskills',\n",
       " 'vaku']"
      ]
     },
     "execution_count": 12,
     "metadata": {},
     "output_type": "execute_result"
    }
   ],
   "source": [
    "l1+l2"
   ]
  },
  {
   "cell_type": "code",
   "execution_count": 2,
   "id": "27cf921d-168e-4fa4-885b-80a4ff8554d7",
   "metadata": {},
   "outputs": [
    {
     "data": {
      "text/plain": [
       "[6,\n",
       " 8,\n",
       " 9,\n",
       " 'pwskills',\n",
       " 'vaku',\n",
       " 6,\n",
       " 8,\n",
       " 9,\n",
       " 'pwskills',\n",
       " 'vaku',\n",
       " 6,\n",
       " 8,\n",
       " 9,\n",
       " 'pwskills',\n",
       " 'vaku']"
      ]
     },
     "execution_count": 2,
     "metadata": {},
     "output_type": "execute_result"
    }
   ],
   "source": [
    "l2*3"
   ]
  },
  {
   "cell_type": "code",
   "execution_count": 13,
   "id": "16bd40df-c415-414a-b0e6-1cc25e7d1e21",
   "metadata": {},
   "outputs": [
    {
     "data": {
      "text/plain": [
       "['v', 'a', 'i', 's', 'h', 'a', 'k', 'h']"
      ]
     },
     "execution_count": 13,
     "metadata": {},
     "output_type": "execute_result"
    }
   ],
   "source": [
    "list(\"vaishakh\")"
   ]
  },
  {
   "cell_type": "code",
   "execution_count": 14,
   "id": "a562c3e1-b09a-4b36-8e2d-678e93518808",
   "metadata": {},
   "outputs": [
    {
     "ename": "TypeError",
     "evalue": "'int' object is not iterable",
     "output_type": "error",
     "traceback": [
      "\u001b[0;31m---------------------------------------------------------------------------\u001b[0m",
      "\u001b[0;31mTypeError\u001b[0m                                 Traceback (most recent call last)",
      "Cell \u001b[0;32mIn[14], line 1\u001b[0m\n\u001b[0;32m----> 1\u001b[0m \u001b[38;5;28;43mlist\u001b[39;49m\u001b[43m(\u001b[49m\u001b[38;5;241;43m563\u001b[39;49m\u001b[43m)\u001b[49m\n",
      "\u001b[0;31mTypeError\u001b[0m: 'int' object is not iterable"
     ]
    }
   ],
   "source": [
    "list(563)"
   ]
  },
  {
   "cell_type": "code",
   "execution_count": 3,
   "id": "3aff71f0-4cda-490d-bf18-1f8715578576",
   "metadata": {},
   "outputs": [],
   "source": [
    "l2[3]=67"
   ]
  },
  {
   "cell_type": "code",
   "execution_count": 4,
   "id": "4a0209f5-bc3c-4d2f-b2a1-226037e78a46",
   "metadata": {},
   "outputs": [
    {
     "data": {
      "text/plain": [
       "[6, 8, 9, 67, 'vaku']"
      ]
     },
     "execution_count": 4,
     "metadata": {},
     "output_type": "execute_result"
    }
   ],
   "source": [
    "#List is mutable entity\n",
    "l2"
   ]
  },
  {
   "cell_type": "code",
   "execution_count": 5,
   "id": "c70813ae-b40c-44b0-88cd-d4f0128113af",
   "metadata": {},
   "outputs": [],
   "source": [
    "#Tuples it is immutable \n",
    "t=(1,2,3,45,\"moni\",\"lalu\")"
   ]
  },
  {
   "cell_type": "code",
   "execution_count": 6,
   "id": "4c4b1bb5-1242-4071-b0b3-1c99acd88da8",
   "metadata": {},
   "outputs": [
    {
     "data": {
      "text/plain": [
       "tuple"
      ]
     },
     "execution_count": 6,
     "metadata": {},
     "output_type": "execute_result"
    }
   ],
   "source": [
    "type(t)"
   ]
  },
  {
   "cell_type": "code",
   "execution_count": 16,
   "id": "34d6109a-d507-45e2-bb27-1c182d2b590f",
   "metadata": {},
   "outputs": [
    {
     "data": {
      "text/plain": [
       "1"
      ]
     },
     "execution_count": 16,
     "metadata": {},
     "output_type": "execute_result"
    }
   ],
   "source": [
    "t[0]"
   ]
  },
  {
   "cell_type": "code",
   "execution_count": 19,
   "id": "232a47f6-9e9a-4e0a-b4e0-b7c2cb66df93",
   "metadata": {},
   "outputs": [
    {
     "data": {
      "text/plain": [
       "('lalu', 'moni', 45, 3, 2, 1)"
      ]
     },
     "execution_count": 19,
     "metadata": {},
     "output_type": "execute_result"
    }
   ],
   "source": [
    "t[: :-1]"
   ]
  },
  {
   "cell_type": "code",
   "execution_count": 20,
   "id": "ac0a7385-8954-4c17-a2fe-b897693d33c2",
   "metadata": {},
   "outputs": [
    {
     "ename": "TypeError",
     "evalue": "'tuple' object does not support item assignment",
     "output_type": "error",
     "traceback": [
      "\u001b[0;31m---------------------------------------------------------------------------\u001b[0m",
      "\u001b[0;31mTypeError\u001b[0m                                 Traceback (most recent call last)",
      "Cell \u001b[0;32mIn[20], line 1\u001b[0m\n\u001b[0;32m----> 1\u001b[0m \u001b[43mt\u001b[49m\u001b[43m[\u001b[49m\u001b[38;5;241;43m0\u001b[39;49m\u001b[43m]\u001b[49m\u001b[38;5;241m=\u001b[39m\u001b[38;5;124m\"\u001b[39m\u001b[38;5;124mvaku\u001b[39m\u001b[38;5;124m\"\u001b[39m\n",
      "\u001b[0;31mTypeError\u001b[0m: 'tuple' object does not support item assignment"
     ]
    }
   ],
   "source": [
    "t[0]=\"vaku\""
   ]
  },
  {
   "cell_type": "code",
   "execution_count": 21,
   "id": "500dbbe9-62e4-4230-ae64-91878c0360fe",
   "metadata": {},
   "outputs": [],
   "source": [
    "t1=(5,6,7,8,9)"
   ]
  },
  {
   "cell_type": "code",
   "execution_count": 22,
   "id": "e3c76b49-8b42-4c79-bffa-ad5aa850a599",
   "metadata": {},
   "outputs": [
    {
     "data": {
      "text/plain": [
       "(1, 2, 3, 45, 'moni', 'lalu', 5, 6, 7, 8, 9)"
      ]
     },
     "execution_count": 22,
     "metadata": {},
     "output_type": "execute_result"
    }
   ],
   "source": [
    "t+t1"
   ]
  },
  {
   "cell_type": "code",
   "execution_count": 23,
   "id": "df17f86f-81f8-47f8-ac08-dfd67530168c",
   "metadata": {},
   "outputs": [
    {
     "data": {
      "text/plain": [
       "(1, 2, 3, 45, 'moni', 'lalu', 1, 2, 3, 45, 'moni', 'lalu')"
      ]
     },
     "execution_count": 23,
     "metadata": {},
     "output_type": "execute_result"
    }
   ],
   "source": [
    "t*2"
   ]
  },
  {
   "cell_type": "code",
   "execution_count": 24,
   "id": "4ddb59ca-d757-4c9b-aa5a-29561ceb0fb3",
   "metadata": {},
   "outputs": [
    {
     "data": {
      "text/plain": [
       "[1, 2, 3, 45, 'moni', 'lalu']"
      ]
     },
     "execution_count": 24,
     "metadata": {},
     "output_type": "execute_result"
    }
   ],
   "source": [
    "list(t)"
   ]
  },
  {
   "cell_type": "code",
   "execution_count": 25,
   "id": "eb12f657-7b82-4171-95ee-442758585b09",
   "metadata": {},
   "outputs": [
    {
     "data": {
      "text/plain": [
       "tuple"
      ]
     },
     "execution_count": 25,
     "metadata": {},
     "output_type": "execute_result"
    }
   ],
   "source": [
    "type(t)"
   ]
  },
  {
   "cell_type": "code",
   "execution_count": 26,
   "id": "d162c1dc-e1c3-46aa-9827-ae60504822cc",
   "metadata": {},
   "outputs": [
    {
     "data": {
      "text/plain": [
       "(6, 8, 9, 'pwskills', 'vaku')"
      ]
     },
     "execution_count": 26,
     "metadata": {},
     "output_type": "execute_result"
    }
   ],
   "source": [
    "tuple(l2)"
   ]
  },
  {
   "cell_type": "code",
   "execution_count": 27,
   "id": "225b63bf-006f-4a4d-86ce-90ae27e4f4f4",
   "metadata": {},
   "outputs": [
    {
     "data": {
      "text/plain": [
       "6"
      ]
     },
     "execution_count": 27,
     "metadata": {},
     "output_type": "execute_result"
    }
   ],
   "source": [
    "len(t)"
   ]
  },
  {
   "cell_type": "code",
   "execution_count": 28,
   "id": "78ec9a32-96c1-4499-99f2-921b6f91ef17",
   "metadata": {},
   "outputs": [
    {
     "data": {
      "text/plain": [
       "24"
      ]
     },
     "execution_count": 28,
     "metadata": {},
     "output_type": "execute_result"
    }
   ],
   "source": [
    "len(\"dngfue    @%$    dos6445\")"
   ]
  },
  {
   "cell_type": "code",
   "execution_count": 29,
   "id": "c3c83b2c-17f3-4548-a5a5-58f494c9ee7f",
   "metadata": {},
   "outputs": [
    {
     "data": {
      "text/plain": [
       "[1, 2, 3, 4, 5, 'monika', 'mandloi', True, 3445.686, [4, 5, 6, 7]]"
      ]
     },
     "execution_count": 29,
     "metadata": {},
     "output_type": "execute_result"
    }
   ],
   "source": [
    "l1"
   ]
  },
  {
   "cell_type": "markdown",
   "id": "b4c25f9c-3f09-43a2-8707-1d631d9ed042",
   "metadata": {},
   "source": [
    "# dictionary\n",
    "s={}"
   ]
  },
  {
   "cell_type": "code",
   "execution_count": 32,
   "id": "5dee5587-e276-4840-bb0f-7e6dc7759ba4",
   "metadata": {},
   "outputs": [
    {
     "data": {
      "text/plain": [
       "dict"
      ]
     },
     "execution_count": 32,
     "metadata": {},
     "output_type": "execute_result"
    }
   ],
   "source": [
    "type(s)"
   ]
  },
  {
   "cell_type": "code",
   "execution_count": 33,
   "id": "936ead90-d86c-4c2b-b63f-6c7f5c058519",
   "metadata": {},
   "outputs": [],
   "source": [
    "s1={1,2,3,5,6,84,5,5,5}"
   ]
  },
  {
   "cell_type": "code",
   "execution_count": 34,
   "id": "945b1578-5b30-4c26-8b0f-201d2e80f808",
   "metadata": {},
   "outputs": [
    {
     "data": {
      "text/plain": [
       "set"
      ]
     },
     "execution_count": 34,
     "metadata": {},
     "output_type": "execute_result"
    }
   ],
   "source": [
    "type(s1)"
   ]
  },
  {
   "cell_type": "code",
   "execution_count": 35,
   "id": "8c894622-ff23-4fc1-adab-f355e7693e3f",
   "metadata": {},
   "outputs": [
    {
     "data": {
      "text/plain": [
       "{1, 2, 3, 5, 6, 84}"
      ]
     },
     "execution_count": 35,
     "metadata": {},
     "output_type": "execute_result"
    }
   ],
   "source": [
    "s1\n",
    "#removed duplicate values"
   ]
  },
  {
   "cell_type": "code",
   "execution_count": 37,
   "id": "67baa7f7-a5a8-4c8a-b727-f46ba5281b18",
   "metadata": {},
   "outputs": [],
   "source": [
    "s2={\"monika\",\"vaku\",\"vaku\"}"
   ]
  },
  {
   "cell_type": "code",
   "execution_count": 38,
   "id": "f5c1601d-f7f4-4d2e-860b-f5a1ff4e78fd",
   "metadata": {},
   "outputs": [
    {
     "data": {
      "text/plain": [
       "{'monika', 'vaku'}"
      ]
     },
     "execution_count": 38,
     "metadata": {},
     "output_type": "execute_result"
    }
   ],
   "source": [
    "s2"
   ]
  },
  {
   "cell_type": "code",
   "execution_count": 39,
   "id": "900c1fa4-b236-44d3-8d36-de7b927b8ff3",
   "metadata": {},
   "outputs": [
    {
     "ename": "TypeError",
     "evalue": "'set' object is not subscriptable",
     "output_type": "error",
     "traceback": [
      "\u001b[0;31m---------------------------------------------------------------------------\u001b[0m",
      "\u001b[0;31mTypeError\u001b[0m                                 Traceback (most recent call last)",
      "Cell \u001b[0;32mIn[39], line 1\u001b[0m\n\u001b[0;32m----> 1\u001b[0m \u001b[43ms2\u001b[49m\u001b[43m[\u001b[49m\u001b[38;5;241;43m0\u001b[39;49m\u001b[43m]\u001b[49m\n",
      "\u001b[0;31mTypeError\u001b[0m: 'set' object is not subscriptable"
     ]
    }
   ],
   "source": [
    "s2[0]"
   ]
  },
  {
   "cell_type": "code",
   "execution_count": 42,
   "id": "ec0b4d8f-4837-470c-99c4-0988019c51b3",
   "metadata": {},
   "outputs": [],
   "source": [
    "s2=list(s2)"
   ]
  },
  {
   "cell_type": "code",
   "execution_count": 43,
   "id": "b9c1d536-82fa-45bb-ac55-a724dafab5aa",
   "metadata": {},
   "outputs": [
    {
     "data": {
      "text/plain": [
       "list"
      ]
     },
     "execution_count": 43,
     "metadata": {},
     "output_type": "execute_result"
    }
   ],
   "source": [
    "type(s2)"
   ]
  },
  {
   "cell_type": "code",
   "execution_count": null,
   "id": "1808023d-88f7-4de6-887b-f0005419b305",
   "metadata": {},
   "outputs": [],
   "source": [
    "#dictionary"
   ]
  },
  {
   "cell_type": "code",
   "execution_count": 60,
   "id": "9365d52c-8cb8-4e0b-b81e-c025e224ba20",
   "metadata": {},
   "outputs": [
    {
     "data": {
      "text/plain": [
       "dict"
      ]
     },
     "execution_count": 60,
     "metadata": {},
     "output_type": "execute_result"
    }
   ],
   "source": [
    "d={}\n",
    "type(d)"
   ]
  },
  {
   "cell_type": "code",
   "execution_count": 61,
   "id": "c1f96afa-6cd7-4752-9d82-5e3a6aaf4f8e",
   "metadata": {},
   "outputs": [],
   "source": [
    "d1={'name':'monika'}"
   ]
  },
  {
   "cell_type": "code",
   "execution_count": 68,
   "id": "ef803e05-b162-4a6e-b253-b47a4033abdf",
   "metadata": {},
   "outputs": [
    {
     "data": {
      "text/plain": [
       "{'name': 'monika'}"
      ]
     },
     "execution_count": 68,
     "metadata": {},
     "output_type": "execute_result"
    }
   ],
   "source": [
    "d1"
   ]
  },
  {
   "cell_type": "code",
   "execution_count": 69,
   "id": "d5824556-a4c8-400e-810f-2d0219457c93",
   "metadata": {},
   "outputs": [],
   "source": [
    "d2={'name':'monika','subject':['hdfkusy','kndbfkusg','nbdfosug']}"
   ]
  },
  {
   "cell_type": "code",
   "execution_count": 70,
   "id": "0457d6e5-1baa-42c0-858b-bb7aec8c72cd",
   "metadata": {},
   "outputs": [
    {
     "data": {
      "text/plain": [
       "{'name': 'monika', 'subject': ['hdfkusy', 'kndbfkusg', 'nbdfosug']}"
      ]
     },
     "execution_count": 70,
     "metadata": {},
     "output_type": "execute_result"
    }
   ],
   "source": [
    "d2"
   ]
  },
  {
   "cell_type": "code",
   "execution_count": 72,
   "id": "76c2eafb-b6db-43c9-b6f1-bad24a8d26f9",
   "metadata": {},
   "outputs": [],
   "source": [
    "d3={'name':'monika','name':\"mandloi\"}"
   ]
  },
  {
   "cell_type": "code",
   "execution_count": 73,
   "id": "1db020b7-ae94-4f9a-ba07-14ea0e526fa2",
   "metadata": {},
   "outputs": [
    {
     "data": {
      "text/plain": [
       "{'name': 'mandloi'}"
      ]
     },
     "execution_count": 73,
     "metadata": {},
     "output_type": "execute_result"
    }
   ],
   "source": [
    "d3\n",
    "#key cant be duplicate and if we give then it will take latest value"
   ]
  },
  {
   "cell_type": "code",
   "execution_count": null,
   "id": "6086c1c0-e32a-49ef-a506-598d27a49d8d",
   "metadata": {},
   "outputs": [],
   "source": [
    "#list and set cant be a keyor indexes"
   ]
  },
  {
   "cell_type": "code",
   "execution_count": 74,
   "id": "0869d2d0-6439-40c3-a883-728370f273f9",
   "metadata": {},
   "outputs": [],
   "source": [
    "d4={'course':['java','dsa','blockchain'],'mentor':('sudh','krish','cjvjk'),\n",
    "    'price':{87083,478574,959,574},'duration':1,'accee_year':1}"
   ]
  },
  {
   "cell_type": "code",
   "execution_count": 75,
   "id": "93970336-3108-40bd-a4bf-d3ebea713b27",
   "metadata": {},
   "outputs": [
    {
     "data": {
      "text/plain": [
       "{'course': ['java', 'dsa', 'blockchain'],\n",
       " 'mentor': ('sudh', 'krish', 'cjvjk'),\n",
       " 'price': {574, 959, 87083, 478574},\n",
       " 'duration': 1,\n",
       " 'accee_year': 1}"
      ]
     },
     "execution_count": 75,
     "metadata": {},
     "output_type": "execute_result"
    }
   ],
   "source": [
    "d4"
   ]
  },
  {
   "cell_type": "code",
   "execution_count": 87,
   "id": "b618b64f-17b1-4259-a3e1-630bdee6c2cf",
   "metadata": {},
   "outputs": [],
   "source": [
    "d4['course'][1]=\"monika\""
   ]
  },
  {
   "cell_type": "code",
   "execution_count": 91,
   "id": "1d3de74a-ae58-4ae8-92dc-dbbbc81dc1b5",
   "metadata": {},
   "outputs": [
    {
     "data": {
      "text/plain": [
       "'o'"
      ]
     },
     "execution_count": 91,
     "metadata": {},
     "output_type": "execute_result"
    }
   ],
   "source": [
    "d4['course'][1][1]"
   ]
  },
  {
   "cell_type": "code",
   "execution_count": 92,
   "id": "5a7600ca-2d1d-47dc-b063-b358741cd133",
   "metadata": {},
   "outputs": [],
   "source": [
    "d5={'syllabus':{'python':['ml','dbfh','shgf']}}"
   ]
  },
  {
   "cell_type": "code",
   "execution_count": 93,
   "id": "3189269b-ff26-46d9-89d4-91e9cf71539b",
   "metadata": {},
   "outputs": [
    {
     "data": {
      "text/plain": [
       "{'syllabus': {'python': ['ml', 'dbfh', 'shgf']}}"
      ]
     },
     "execution_count": 93,
     "metadata": {},
     "output_type": "execute_result"
    }
   ],
   "source": [
    "d5"
   ]
  },
  {
   "cell_type": "code",
   "execution_count": 94,
   "id": "2a2281ec-6ae9-4a95-b84e-94c5ce619ea8",
   "metadata": {},
   "outputs": [],
   "source": [
    "d5['name']=\"monika\""
   ]
  },
  {
   "cell_type": "code",
   "execution_count": 95,
   "id": "7a9def39-d87d-4e0c-a740-ff7dc403251c",
   "metadata": {},
   "outputs": [
    {
     "data": {
      "text/plain": [
       "{'syllabus': {'python': ['ml', 'dbfh', 'shgf']}, 'name': 'monika'}"
      ]
     },
     "execution_count": 95,
     "metadata": {},
     "output_type": "execute_result"
    }
   ],
   "source": [
    "d5"
   ]
  },
  {
   "cell_type": "code",
   "execution_count": null,
   "id": "30e67315-7f7f-43ec-898b-c4532a006b01",
   "metadata": {},
   "outputs": [],
   "source": [
    "#dictionary is a mutable element "
   ]
  },
  {
   "cell_type": "code",
   "execution_count": 96,
   "id": "6a6abc22-305f-4d18-8c02-516fcd8670f6",
   "metadata": {},
   "outputs": [
    {
     "data": {
      "text/plain": [
       "'1.String\\n   2.list\\n   3.tuple\\n   4.set\\n   5.dict'"
      ]
     },
     "execution_count": 96,
     "metadata": {},
     "output_type": "execute_result"
    }
   ],
   "source": [
    "'''1.String\n",
    "   2.list\n",
    "   3.tuple\n",
    "   4.set\n",
    "   5.dict'''"
   ]
  },
  {
   "cell_type": "code",
   "execution_count": 97,
   "id": "b19aeb48-7feb-4196-8d46-bea2b8b380fc",
   "metadata": {},
   "outputs": [],
   "source": [
    "s1=\"pwskills\""
   ]
  },
  {
   "cell_type": "code",
   "execution_count": 99,
   "id": "0fc5cebb-a3f2-48a9-8652-008eb63078ea",
   "metadata": {},
   "outputs": [
    {
     "data": {
      "text/plain": [
       "2"
      ]
     },
     "execution_count": 99,
     "metadata": {},
     "output_type": "execute_result"
    }
   ],
   "source": [
    "s1.count('l')"
   ]
  },
  {
   "cell_type": "code",
   "execution_count": 100,
   "id": "b5c3ac72-2e99-4222-b844-e4db7db465f4",
   "metadata": {},
   "outputs": [
    {
     "data": {
      "text/plain": [
       "2"
      ]
     },
     "execution_count": 100,
     "metadata": {},
     "output_type": "execute_result"
    }
   ],
   "source": [
    "s1.find('s')"
   ]
  },
  {
   "cell_type": "code",
   "execution_count": 101,
   "id": "ba626b58-9399-4c0b-a7a3-938fcc04182a",
   "metadata": {},
   "outputs": [
    {
     "data": {
      "text/plain": [
       "0"
      ]
     },
     "execution_count": 101,
     "metadata": {},
     "output_type": "execute_result"
    }
   ],
   "source": [
    "s1.index('p')"
   ]
  },
  {
   "cell_type": "code",
   "execution_count": 102,
   "id": "6005ba6e-2ff4-4950-a971-06d8b4d555af",
   "metadata": {},
   "outputs": [
    {
     "data": {
      "text/plain": [
       "-1"
      ]
     },
     "execution_count": 102,
     "metadata": {},
     "output_type": "execute_result"
    }
   ],
   "source": [
    "s1.find('z')"
   ]
  },
  {
   "cell_type": "code",
   "execution_count": 103,
   "id": "e38ecca3-8df2-4b5b-8524-4356f49910db",
   "metadata": {},
   "outputs": [
    {
     "ename": "ValueError",
     "evalue": "substring not found",
     "output_type": "error",
     "traceback": [
      "\u001b[0;31m---------------------------------------------------------------------------\u001b[0m",
      "\u001b[0;31mValueError\u001b[0m                                Traceback (most recent call last)",
      "Cell \u001b[0;32mIn[103], line 1\u001b[0m\n\u001b[0;32m----> 1\u001b[0m \u001b[43ms1\u001b[49m\u001b[38;5;241;43m.\u001b[39;49m\u001b[43mindex\u001b[49m\u001b[43m(\u001b[49m\u001b[38;5;124;43m'\u001b[39;49m\u001b[38;5;124;43mz\u001b[39;49m\u001b[38;5;124;43m'\u001b[39;49m\u001b[43m)\u001b[49m\n",
      "\u001b[0;31mValueError\u001b[0m: substring not found"
     ]
    }
   ],
   "source": [
    "s1.index('z')"
   ]
  },
  {
   "cell_type": "code",
   "execution_count": 105,
   "id": "a687f4ff-f7d9-4408-86ed-7876e1d7df79",
   "metadata": {},
   "outputs": [
    {
     "data": {
      "text/plain": [
       "'pwskills'"
      ]
     },
     "execution_count": 105,
     "metadata": {},
     "output_type": "execute_result"
    }
   ],
   "source": [
    "s1.lower()"
   ]
  },
  {
   "cell_type": "code",
   "execution_count": 106,
   "id": "060b56af-da09-4389-8b70-bb2435a03f08",
   "metadata": {},
   "outputs": [
    {
     "data": {
      "text/plain": [
       "'Pwskills'"
      ]
     },
     "execution_count": 106,
     "metadata": {},
     "output_type": "execute_result"
    }
   ],
   "source": [
    "s1.title()"
   ]
  },
  {
   "cell_type": "code",
   "execution_count": 107,
   "id": "ac2cb1f5-ff33-4aaa-96b7-6ce847595908",
   "metadata": {},
   "outputs": [
    {
     "data": {
      "text/plain": [
       "['pwskills']"
      ]
     },
     "execution_count": 107,
     "metadata": {},
     "output_type": "execute_result"
    }
   ],
   "source": [
    "s1.split()"
   ]
  },
  {
   "cell_type": "code",
   "execution_count": 108,
   "id": "ff1d6496-0c17-4c04-a571-a644de813507",
   "metadata": {},
   "outputs": [],
   "source": [
    "s2=\"my, name, is, monika,manloi\""
   ]
  },
  {
   "cell_type": "code",
   "execution_count": 109,
   "id": "20d2e433-c40a-461a-a990-ea2c173d42e8",
   "metadata": {},
   "outputs": [
    {
     "data": {
      "text/plain": [
       "['my,', 'name,', 'is,', 'monika,manloi']"
      ]
     },
     "execution_count": 109,
     "metadata": {},
     "output_type": "execute_result"
    }
   ],
   "source": [
    "s2.split()"
   ]
  },
  {
   "cell_type": "code",
   "execution_count": 112,
   "id": "1f95c4dc-3140-4602-9647-7a537b613952",
   "metadata": {},
   "outputs": [
    {
     "data": {
      "text/plain": [
       "'my'"
      ]
     },
     "execution_count": 112,
     "metadata": {},
     "output_type": "execute_result"
    }
   ],
   "source": [
    "s2.split(',')[0]"
   ]
  },
  {
   "cell_type": "code",
   "execution_count": 114,
   "id": "3aca504b-9c9a-402b-a56b-132f7a217783",
   "metadata": {},
   "outputs": [
    {
     "data": {
      "text/plain": [
       "'My, name, is, monika,manloi'"
      ]
     },
     "execution_count": 114,
     "metadata": {},
     "output_type": "execute_result"
    }
   ],
   "source": [
    "s2.capitalize()"
   ]
  },
  {
   "cell_type": "code",
   "execution_count": 116,
   "id": "4c8bc156-6189-411a-a44d-282258aa3b26",
   "metadata": {},
   "outputs": [
    {
     "data": {
      "text/plain": [
       "'My, Name, Is, Monika,Manloi'"
      ]
     },
     "execution_count": 116,
     "metadata": {},
     "output_type": "execute_result"
    }
   ],
   "source": [
    "s2.title()"
   ]
  },
  {
   "cell_type": "code",
   "execution_count": 117,
   "id": "8b2050c9-1368-404d-9616-980769f6bbc6",
   "metadata": {},
   "outputs": [
    {
     "data": {
      "text/plain": [
       "'my, monika, is, monika,manloi'"
      ]
     },
     "execution_count": 117,
     "metadata": {},
     "output_type": "execute_result"
    }
   ],
   "source": [
    "s2.replace('name','monika')"
   ]
  },
  {
   "cell_type": "code",
   "execution_count": 118,
   "id": "13a2bc6b-e935-4dbd-a118-a2cb88610ee6",
   "metadata": {},
   "outputs": [
    {
     "data": {
      "text/plain": [
       "'my, name, is, monika,manloi'"
      ]
     },
     "execution_count": 118,
     "metadata": {},
     "output_type": "execute_result"
    }
   ],
   "source": [
    "s2"
   ]
  },
  {
   "cell_type": "code",
   "execution_count": 119,
   "id": "2d28f888-fb77-4134-9c17-aa999f456d34",
   "metadata": {},
   "outputs": [
    {
     "data": {
      "text/plain": [
       "'ffffffffffffffffpwskillsffffffffffffffff'"
      ]
     },
     "execution_count": 119,
     "metadata": {},
     "output_type": "execute_result"
    }
   ],
   "source": [
    "s1.center(40,'f')"
   ]
  },
  {
   "cell_type": "code",
   "execution_count": 120,
   "id": "3b5d5dd3-19b5-4468-af83-ac351b3986c4",
   "metadata": {},
   "outputs": [],
   "source": [
    "s5=\"         pwskkillss     \""
   ]
  },
  {
   "cell_type": "code",
   "execution_count": 121,
   "id": "72a3ca67-51ec-42ea-bdd5-86184ce546fb",
   "metadata": {},
   "outputs": [
    {
     "data": {
      "text/plain": [
       "'pwskkillss'"
      ]
     },
     "execution_count": 121,
     "metadata": {},
     "output_type": "execute_result"
    }
   ],
   "source": [
    "s5.strip()"
   ]
  },
  {
   "cell_type": "markdown",
   "id": "06525e97-0407-478f-b95c-df14075355ca",
   "metadata": {},
   "source": [
    "# s1.isalnum()"
   ]
  },
  {
   "cell_type": "code",
   "execution_count": 124,
   "id": "243bf67b-657d-4e3f-93f9-cd48566e988a",
   "metadata": {},
   "outputs": [
    {
     "ename": "AttributeError",
     "evalue": "'str' object has no attribute 'append'",
     "output_type": "error",
     "traceback": [
      "\u001b[0;31m---------------------------------------------------------------------------\u001b[0m",
      "\u001b[0;31mAttributeError\u001b[0m                            Traceback (most recent call last)",
      "Cell \u001b[0;32mIn[124], line 1\u001b[0m\n\u001b[0;32m----> 1\u001b[0m \u001b[43ms1\u001b[49m\u001b[38;5;241;43m.\u001b[39;49m\u001b[43mappend\u001b[49m()\n",
      "\u001b[0;31mAttributeError\u001b[0m: 'str' object has no attribute 'append'"
     ]
    }
   ],
   "source": [
    "s1.append()"
   ]
  },
  {
   "cell_type": "code",
   "execution_count": 125,
   "id": "1324e83e-8b0d-4ab2-a01a-ff8471317596",
   "metadata": {},
   "outputs": [],
   "source": [
    "l1.append(\"monika\")"
   ]
  },
  {
   "cell_type": "code",
   "execution_count": 126,
   "id": "a9a081b4-a66f-4ab1-81b6-bd5722deb10d",
   "metadata": {},
   "outputs": [
    {
     "data": {
      "text/plain": [
       "[1, 2, 3, 4, 5, 'monika', 'mandloi', True, 3445.686, [4, 5, 6, 7], 'monika']"
      ]
     },
     "execution_count": 126,
     "metadata": {},
     "output_type": "execute_result"
    }
   ],
   "source": [
    "l1"
   ]
  },
  {
   "cell_type": "markdown",
   "id": "2ab073b8-20b2-4053-bcb6-5e04f1fb5556",
   "metadata": {},
   "source": [
    "l1.insert(3,\"monika\")"
   ]
  },
  {
   "cell_type": "code",
   "execution_count": 127,
   "id": "04f98ee9-8f77-467b-afc1-79d93bc1ed6a",
   "metadata": {},
   "outputs": [],
   "source": [
    "l1.insert(2,\"monika\")"
   ]
  },
  {
   "cell_type": "code",
   "execution_count": 128,
   "id": "23340539-98e9-40d4-874e-271b225c9e3a",
   "metadata": {},
   "outputs": [
    {
     "data": {
      "text/plain": [
       "[1,\n",
       " 2,\n",
       " 'monika',\n",
       " 3,\n",
       " 4,\n",
       " 5,\n",
       " 'monika',\n",
       " 'mandloi',\n",
       " True,\n",
       " 3445.686,\n",
       " [4, 5, 6, 7],\n",
       " 'monika']"
      ]
     },
     "execution_count": 128,
     "metadata": {},
     "output_type": "execute_result"
    }
   ],
   "source": [
    "l1"
   ]
  },
  {
   "cell_type": "code",
   "execution_count": 129,
   "id": "30897181-ecb9-4fa3-967d-e425372d1219",
   "metadata": {},
   "outputs": [],
   "source": [
    "l1.extend([4,5,6])"
   ]
  },
  {
   "cell_type": "code",
   "execution_count": 130,
   "id": "8b2e2424-0892-4bc1-a1be-d2fda0562bf8",
   "metadata": {},
   "outputs": [
    {
     "data": {
      "text/plain": [
       "[1,\n",
       " 2,\n",
       " 'monika',\n",
       " 3,\n",
       " 4,\n",
       " 5,\n",
       " 'monika',\n",
       " 'mandloi',\n",
       " True,\n",
       " 3445.686,\n",
       " [4, 5, 6, 7],\n",
       " 'monika',\n",
       " 4,\n",
       " 5,\n",
       " 6]"
      ]
     },
     "execution_count": 130,
     "metadata": {},
     "output_type": "execute_result"
    }
   ],
   "source": [
    "l1"
   ]
  },
  {
   "cell_type": "code",
   "execution_count": 131,
   "id": "deb96289-e9bd-4b96-9b90-a2ad0acf6b37",
   "metadata": {},
   "outputs": [
    {
     "data": {
      "text/plain": [
       "6"
      ]
     },
     "execution_count": 131,
     "metadata": {},
     "output_type": "execute_result"
    }
   ],
   "source": [
    "l1.pop()"
   ]
  },
  {
   "cell_type": "code",
   "execution_count": 132,
   "id": "84f9b72f-2915-4817-93dc-bf23c52dc328",
   "metadata": {},
   "outputs": [
    {
     "data": {
      "text/plain": [
       "[1,\n",
       " 2,\n",
       " 'monika',\n",
       " 3,\n",
       " 4,\n",
       " 5,\n",
       " 'monika',\n",
       " 'mandloi',\n",
       " True,\n",
       " 3445.686,\n",
       " [4, 5, 6, 7],\n",
       " 'monika',\n",
       " 4,\n",
       " 5]"
      ]
     },
     "execution_count": 132,
     "metadata": {},
     "output_type": "execute_result"
    }
   ],
   "source": [
    "l1"
   ]
  },
  {
   "cell_type": "code",
   "execution_count": 133,
   "id": "df3b5b87-00e5-4268-9ab5-2bf0b1484897",
   "metadata": {},
   "outputs": [
    {
     "data": {
      "text/plain": [
       "'monika'"
      ]
     },
     "execution_count": 133,
     "metadata": {},
     "output_type": "execute_result"
    }
   ],
   "source": [
    "l1.pop(2)"
   ]
  },
  {
   "cell_type": "code",
   "execution_count": 134,
   "id": "c47bfd8e-3d74-4e9d-9152-6fcfa8a89c99",
   "metadata": {},
   "outputs": [
    {
     "data": {
      "text/plain": [
       "[1,\n",
       " 2,\n",
       " 3,\n",
       " 4,\n",
       " 5,\n",
       " 'monika',\n",
       " 'mandloi',\n",
       " True,\n",
       " 3445.686,\n",
       " [4, 5, 6, 7],\n",
       " 'monika',\n",
       " 4,\n",
       " 5]"
      ]
     },
     "execution_count": 134,
     "metadata": {},
     "output_type": "execute_result"
    }
   ],
   "source": [
    "l1"
   ]
  },
  {
   "cell_type": "code",
   "execution_count": 135,
   "id": "c039e9c2-452d-4fd2-ac38-6bd58cca4ff7",
   "metadata": {},
   "outputs": [],
   "source": [
    "del s2"
   ]
  },
  {
   "cell_type": "code",
   "execution_count": 136,
   "id": "5bbc0d7d-c18e-44b2-aa47-11e01f108bfa",
   "metadata": {},
   "outputs": [
    {
     "ename": "NameError",
     "evalue": "name 's2' is not defined",
     "output_type": "error",
     "traceback": [
      "\u001b[0;31m---------------------------------------------------------------------------\u001b[0m",
      "\u001b[0;31mNameError\u001b[0m                                 Traceback (most recent call last)",
      "Cell \u001b[0;32mIn[136], line 1\u001b[0m\n\u001b[0;32m----> 1\u001b[0m \u001b[43ms2\u001b[49m\n",
      "\u001b[0;31mNameError\u001b[0m: name 's2' is not defined"
     ]
    }
   ],
   "source": [
    "s2"
   ]
  },
  {
   "cell_type": "code",
   "execution_count": 141,
   "id": "1d03c56a-b2de-43df-9d7b-1323874360b3",
   "metadata": {},
   "outputs": [
    {
     "data": {
      "text/plain": [
       "[1,\n",
       " 2,\n",
       " 3,\n",
       " 4,\n",
       " 5,\n",
       " 'monika',\n",
       " 'mandloi',\n",
       " True,\n",
       " 3445.686,\n",
       " [4, 5, 6, 7],\n",
       " 'monika',\n",
       " 4,\n",
       " 5]"
      ]
     },
     "execution_count": 141,
     "metadata": {},
     "output_type": "execute_result"
    }
   ],
   "source": [
    "l1"
   ]
  },
  {
   "cell_type": "code",
   "execution_count": 146,
   "id": "640c72b3-8ff1-40ab-9014-84eb59e6c402",
   "metadata": {},
   "outputs": [],
   "source": [
    "l1.remove('monika')"
   ]
  },
  {
   "cell_type": "code",
   "execution_count": 147,
   "id": "3c1e6aa3-ceff-4eb3-86bc-2ec5ff82027d",
   "metadata": {},
   "outputs": [
    {
     "data": {
      "text/plain": [
       "[2, 3, 4, 5, 'mandloi', True, 3445.686, [4, 5, 6, 7], 4, 5]"
      ]
     },
     "execution_count": 147,
     "metadata": {},
     "output_type": "execute_result"
    }
   ],
   "source": [
    "l1"
   ]
  },
  {
   "cell_type": "code",
   "execution_count": 150,
   "id": "d256c488-8533-4913-bf7d-1d6fd4fdcf33",
   "metadata": {},
   "outputs": [
    {
     "data": {
      "text/plain": [
       "4"
      ]
     },
     "execution_count": 150,
     "metadata": {},
     "output_type": "execute_result"
    }
   ],
   "source": [
    "l1.index('mandloi')"
   ]
  },
  {
   "cell_type": "code",
   "execution_count": 151,
   "id": "e991913d-da69-4462-8bf5-b5f4680a1e3c",
   "metadata": {},
   "outputs": [],
   "source": [
    "l1.reverse()"
   ]
  },
  {
   "cell_type": "code",
   "execution_count": 152,
   "id": "4dd1bb32-c515-4e49-98af-2a5ae9436a4e",
   "metadata": {},
   "outputs": [
    {
     "data": {
      "text/plain": [
       "[5, 4, [4, 5, 6, 7], 3445.686, True, 'mandloi', 5, 4, 3, 2]"
      ]
     },
     "execution_count": 152,
     "metadata": {},
     "output_type": "execute_result"
    }
   ],
   "source": [
    "l1"
   ]
  },
  {
   "cell_type": "code",
   "execution_count": 153,
   "id": "7d5c3c85-60d8-45cd-b9d4-10e3e85ae474",
   "metadata": {},
   "outputs": [
    {
     "ename": "TypeError",
     "evalue": "'<' not supported between instances of 'list' and 'int'",
     "output_type": "error",
     "traceback": [
      "\u001b[0;31m---------------------------------------------------------------------------\u001b[0m",
      "\u001b[0;31mTypeError\u001b[0m                                 Traceback (most recent call last)",
      "Cell \u001b[0;32mIn[153], line 1\u001b[0m\n\u001b[0;32m----> 1\u001b[0m \u001b[43ml1\u001b[49m\u001b[38;5;241;43m.\u001b[39;49m\u001b[43msort\u001b[49m\u001b[43m(\u001b[49m\u001b[43m)\u001b[49m\n",
      "\u001b[0;31mTypeError\u001b[0m: '<' not supported between instances of 'list' and 'int'"
     ]
    }
   ],
   "source": [
    "l1.sort()"
   ]
  },
  {
   "cell_type": "code",
   "execution_count": 154,
   "id": "a8dd1cbc-2ff9-40ea-b138-8a974c98ad7a",
   "metadata": {},
   "outputs": [],
   "source": [
    "l10=[1,2,3,4,5,3,2,1,84]"
   ]
  },
  {
   "cell_type": "code",
   "execution_count": 157,
   "id": "1f156b5e-4a11-43a5-866e-5238e8d319f7",
   "metadata": {},
   "outputs": [],
   "source": [
    "l10.sort(reverse=True)"
   ]
  },
  {
   "cell_type": "code",
   "execution_count": 158,
   "id": "45c11f22-d287-4b38-90fb-de02b5a3a7cb",
   "metadata": {},
   "outputs": [
    {
     "data": {
      "text/plain": [
       "[84, 5, 4, 3, 3, 2, 2, 1, 1]"
      ]
     },
     "execution_count": 158,
     "metadata": {},
     "output_type": "execute_result"
    }
   ],
   "source": [
    "l10"
   ]
  },
  {
   "cell_type": "code",
   "execution_count": 160,
   "id": "a59d8e29-08ee-49b6-a401-43828aae15a8",
   "metadata": {},
   "outputs": [],
   "source": [
    "m=set(l10)"
   ]
  },
  {
   "cell_type": "code",
   "execution_count": 161,
   "id": "556f4750-5c9b-4695-ad62-7d7c5c8e43ee",
   "metadata": {},
   "outputs": [],
   "source": [
    "n=list(m)"
   ]
  },
  {
   "cell_type": "code",
   "execution_count": 162,
   "id": "a9ecb0ab-e26b-4d30-868b-8bfcd2897aff",
   "metadata": {},
   "outputs": [],
   "source": [
    "n.sort()"
   ]
  },
  {
   "cell_type": "code",
   "execution_count": 163,
   "id": "2c06a418-6656-4dca-ae98-d1afed2cb882",
   "metadata": {},
   "outputs": [
    {
     "data": {
      "text/plain": [
       "[1, 2, 3, 4, 5, 84]"
      ]
     },
     "execution_count": 163,
     "metadata": {},
     "output_type": "execute_result"
    }
   ],
   "source": [
    "n"
   ]
  },
  {
   "cell_type": "code",
   "execution_count": 164,
   "id": "7c5b876d-3046-4675-a2e1-a6833cd86031",
   "metadata": {},
   "outputs": [],
   "source": [
    "l0=[2,3,4,5]"
   ]
  },
  {
   "cell_type": "code",
   "execution_count": 165,
   "id": "8617bf26-f8ae-48d8-af7f-510261a6ad63",
   "metadata": {},
   "outputs": [],
   "source": [
    "l1=l0"
   ]
  },
  {
   "cell_type": "code",
   "execution_count": 166,
   "id": "b4624b5a-8f36-4c93-9353-03199a60a651",
   "metadata": {},
   "outputs": [
    {
     "data": {
      "text/plain": [
       "[2, 3, 4, 5]"
      ]
     },
     "execution_count": 166,
     "metadata": {},
     "output_type": "execute_result"
    }
   ],
   "source": [
    "l1"
   ]
  },
  {
   "cell_type": "code",
   "execution_count": 167,
   "id": "34e404b5-568f-4509-a673-205fd58e1731",
   "metadata": {},
   "outputs": [
    {
     "data": {
      "text/plain": [
       "[2, 3, 4, 5]"
      ]
     },
     "execution_count": 167,
     "metadata": {},
     "output_type": "execute_result"
    }
   ],
   "source": [
    "l0"
   ]
  },
  {
   "cell_type": "code",
   "execution_count": 168,
   "id": "2d7f2e80-4fd0-4fa0-97c9-be45e0f7de63",
   "metadata": {},
   "outputs": [],
   "source": [
    "l0[0]=43"
   ]
  },
  {
   "cell_type": "code",
   "execution_count": 169,
   "id": "bf171546-7986-4128-866a-63434e3bee04",
   "metadata": {},
   "outputs": [
    {
     "data": {
      "text/plain": [
       "[43, 3, 4, 5]"
      ]
     },
     "execution_count": 169,
     "metadata": {},
     "output_type": "execute_result"
    }
   ],
   "source": [
    "l1"
   ]
  },
  {
   "cell_type": "code",
   "execution_count": 170,
   "id": "9c1dbf09-6738-43d3-810f-6d3d8dfab905",
   "metadata": {},
   "outputs": [],
   "source": [
    "l2=l0.copy()"
   ]
  },
  {
   "cell_type": "code",
   "execution_count": 171,
   "id": "345df5d3-0172-4b96-bc58-bb16939031a1",
   "metadata": {},
   "outputs": [
    {
     "data": {
      "text/plain": [
       "[43, 3, 4, 5]"
      ]
     },
     "execution_count": 171,
     "metadata": {},
     "output_type": "execute_result"
    }
   ],
   "source": [
    "l2"
   ]
  },
  {
   "cell_type": "code",
   "execution_count": 172,
   "id": "31f8d7fd-8131-4f8a-ac45-15454fea2368",
   "metadata": {},
   "outputs": [],
   "source": [
    "l0[0]=300"
   ]
  },
  {
   "cell_type": "code",
   "execution_count": 173,
   "id": "daa45f2c-9e30-4200-9233-8bf6ef015924",
   "metadata": {},
   "outputs": [
    {
     "data": {
      "text/plain": [
       "[300, 3, 4, 5]"
      ]
     },
     "execution_count": 173,
     "metadata": {},
     "output_type": "execute_result"
    }
   ],
   "source": [
    "l1"
   ]
  },
  {
   "cell_type": "code",
   "execution_count": 174,
   "id": "f5b562cf-059b-484d-85b0-77812c474491",
   "metadata": {},
   "outputs": [
    {
     "data": {
      "text/plain": [
       "[43, 3, 4, 5]"
      ]
     },
     "execution_count": 174,
     "metadata": {},
     "output_type": "execute_result"
    }
   ],
   "source": [
    "l2"
   ]
  },
  {
   "cell_type": "code",
   "execution_count": 175,
   "id": "8493ec67-7c65-4064-b0f1-7dae3b8be61e",
   "metadata": {},
   "outputs": [],
   "source": [
    "s={3,5,7,93,6,98,9,2,1242,6,78,0}"
   ]
  },
  {
   "cell_type": "code",
   "execution_count": 176,
   "id": "6da8d080-6b6b-44ef-8272-67d3a2a148c9",
   "metadata": {},
   "outputs": [
    {
     "data": {
      "text/plain": [
       "set"
      ]
     },
     "execution_count": 176,
     "metadata": {},
     "output_type": "execute_result"
    }
   ],
   "source": [
    "type(s)"
   ]
  },
  {
   "cell_type": "code",
   "execution_count": 177,
   "id": "cbd3aff8-3a9a-4647-a3d4-0c92483c470c",
   "metadata": {},
   "outputs": [],
   "source": [
    "s.add(234)"
   ]
  },
  {
   "cell_type": "code",
   "execution_count": 178,
   "id": "54a3f58b-fcb2-4dc6-a155-01696470887a",
   "metadata": {},
   "outputs": [
    {
     "data": {
      "text/plain": [
       "{0, 2, 3, 5, 6, 7, 9, 78, 93, 98, 234, 1242}"
      ]
     },
     "execution_count": 178,
     "metadata": {},
     "output_type": "execute_result"
    }
   ],
   "source": [
    "s"
   ]
  },
  {
   "cell_type": "code",
   "execution_count": 179,
   "id": "de3b8e50-9b71-4c64-b175-78487ee5f48f",
   "metadata": {},
   "outputs": [
    {
     "data": {
      "text/plain": [
       "0"
      ]
     },
     "execution_count": 179,
     "metadata": {},
     "output_type": "execute_result"
    }
   ],
   "source": [
    "s.pop()"
   ]
  },
  {
   "cell_type": "code",
   "execution_count": 182,
   "id": "b191ecbd-a951-4e44-a9e3-f31d466ace5e",
   "metadata": {},
   "outputs": [],
   "source": [
    "s.discard(2)"
   ]
  },
  {
   "cell_type": "code",
   "execution_count": 183,
   "id": "0022c463-8c6b-4b7d-97a8-eec28e957c08",
   "metadata": {},
   "outputs": [
    {
     "data": {
      "text/plain": [
       "{3, 5, 6, 7, 9, 78, 93, 98, 234, 1242}"
      ]
     },
     "execution_count": 183,
     "metadata": {},
     "output_type": "execute_result"
    }
   ],
   "source": [
    "s"
   ]
  },
  {
   "cell_type": "code",
   "execution_count": 185,
   "id": "1c3a0229-61af-457c-aed0-6236a8157356",
   "metadata": {},
   "outputs": [
    {
     "data": {
      "text/plain": [
       "{'name': 'monika', 'subject': ['hdfkusy', 'kndbfkusg', 'nbdfosug']}"
      ]
     },
     "execution_count": 185,
     "metadata": {},
     "output_type": "execute_result"
    }
   ],
   "source": [
    "d2"
   ]
  },
  {
   "cell_type": "code",
   "execution_count": 186,
   "id": "e4eb7086-e131-4878-a8e7-01f20fba630c",
   "metadata": {},
   "outputs": [
    {
     "data": {
      "text/plain": [
       "dict_keys(['name', 'subject'])"
      ]
     },
     "execution_count": 186,
     "metadata": {},
     "output_type": "execute_result"
    }
   ],
   "source": [
    "d2.keys()"
   ]
  },
  {
   "cell_type": "code",
   "execution_count": 187,
   "id": "8f780032-6b6d-47a1-b0f5-36fa5bf5954f",
   "metadata": {},
   "outputs": [
    {
     "data": {
      "text/plain": [
       "dict_values(['monika', ['hdfkusy', 'kndbfkusg', 'nbdfosug']])"
      ]
     },
     "execution_count": 187,
     "metadata": {},
     "output_type": "execute_result"
    }
   ],
   "source": [
    "d2.values()"
   ]
  },
  {
   "cell_type": "code",
   "execution_count": 189,
   "id": "cfd7cf1c-46f5-4885-8046-54861c3403fa",
   "metadata": {},
   "outputs": [],
   "source": [
    "d2.setdefault(1)"
   ]
  },
  {
   "cell_type": "code",
   "execution_count": 190,
   "id": "4be975c4-4b42-4736-b4c8-9e7079e8068e",
   "metadata": {},
   "outputs": [
    {
     "data": {
      "text/plain": [
       "{'name': 'monika', 'subject': ['hdfkusy', 'kndbfkusg', 'nbdfosug'], 1: None}"
      ]
     },
     "execution_count": 190,
     "metadata": {},
     "output_type": "execute_result"
    }
   ],
   "source": [
    "d2"
   ]
  },
  {
   "cell_type": "code",
   "execution_count": 10,
   "id": "b5c06654-765d-4d5b-ad86-b28371580c42",
   "metadata": {},
   "outputs": [
    {
     "data": {
      "text/plain": [
       "list[1, 2, 3, 4, 5]"
      ]
     },
     "execution_count": 10,
     "metadata": {},
     "output_type": "execute_result"
    }
   ],
   "source": [
    "list[1,2,3,4,5]"
   ]
  },
  {
   "cell_type": "raw",
   "id": "f350c8dc-7c39-428a-8ce4-7097d63722d9",
   "metadata": {},
   "source": [
    "list{}"
   ]
  },
  {
   "cell_type": "code",
   "execution_count": null,
   "id": "92325b8b-5dad-44c6-9c46-dc463797e81b",
   "metadata": {},
   "outputs": [],
   "source": [
    "#2nd september class"
   ]
  },
  {
   "cell_type": "code",
   "execution_count": null,
   "id": "0ceabe46-cc5f-4ab5-9799-39533fbb5ea7",
   "metadata": {},
   "outputs": [],
   "source": []
  }
 ],
 "metadata": {
  "kernelspec": {
   "display_name": "Python 3 (ipykernel)",
   "language": "python",
   "name": "python3"
  },
  "language_info": {
   "codemirror_mode": {
    "name": "ipython",
    "version": 3
   },
   "file_extension": ".py",
   "mimetype": "text/x-python",
   "name": "python",
   "nbconvert_exporter": "python",
   "pygments_lexer": "ipython3",
   "version": "3.10.8"
  }
 },
 "nbformat": 4,
 "nbformat_minor": 5
}
