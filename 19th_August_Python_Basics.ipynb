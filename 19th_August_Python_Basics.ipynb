{
 "cells": [
  {
   "cell_type": "code",
   "execution_count": null,
   "id": "8ce0955a-dc4c-4e1a-8d9f-36931dc19df8",
   "metadata": {},
   "outputs": [],
   "source": [
    "#TOPIC: Python Basics Variable"
   ]
  },
  {
   "cell_type": "code",
   "execution_count": 1,
   "id": "36d12389-c627-4601-b90b-df0ddda4722d",
   "metadata": {},
   "outputs": [
    {
     "name": "stdout",
     "output_type": "stream",
     "text": [
      "2 4\n",
      "4 2\n"
     ]
    }
   ],
   "source": [
    "'''1. Declare two variables, `x` and `y`, and assign them integer values. Swap the\n",
    "values of these variables without using any temporary variable.'''\n",
    "\n",
    "x=2\n",
    "y=4\n",
    "print(x,y)\n",
    "x,y=y,x\n",
    "print(x,y)"
   ]
  },
  {
   "cell_type": "code",
   "execution_count": 4,
   "id": "e5ca1d90-e498-480b-8709-9671745feb60",
   "metadata": {},
   "outputs": [
    {
     "name": "stdin",
     "output_type": "stream",
     "text": [
      "enter length of rectangle 10 20\n"
     ]
    },
    {
     "name": "stdout",
     "output_type": "stream",
     "text": [
      "200\n"
     ]
    }
   ],
   "source": [
    "'''2. Create a program that calculates the area of a rectangle. Take the length and\n",
    "width as inputs from the user and store them in variables. Calculate and\n",
    "display the area.'''\n",
    "\n",
    "def area():\n",
    "    length,width=input(\"enter length of rectangle\").split()\n",
    "    ar=int(length)*int(width)\n",
    "    print(ar)\n",
    "    \n",
    "area()\n",
    "    \n"
   ]
  },
  {
   "cell_type": "code",
   "execution_count": 3,
   "id": "23240cec-c819-464f-8bf9-c0deb6867559",
   "metadata": {},
   "outputs": [
    {
     "name": "stdin",
     "output_type": "stream",
     "text": [
      "enter temperature in celsius 100\n"
     ]
    },
    {
     "name": "stdout",
     "output_type": "stream",
     "text": [
      "temp in fahrenheit 212.0\n"
     ]
    }
   ],
   "source": [
    "'''3. Write a Python program that converts temperatures from Celsius to\n",
    "Fahrenheit. Take the temperature in Celsius as input, store it in a variable,\n",
    "convert it to Fahrenheit, and display the result.'''\n",
    "\n",
    "def temp_convt():\n",
    "    temp=float(input(\"enter temperature in celsius\"))\n",
    "    fahrenhit=1.8*temp+32\n",
    "    print(\"temp in fahrenheit\",fahrenhit)\n",
    "    \n",
    "temp_convt()\n",
    "\n"
   ]
  },
  {
   "cell_type": "code",
   "execution_count": null,
   "id": "fe224bc0-1b78-454b-a5d9-f629558ecfc9",
   "metadata": {},
   "outputs": [],
   "source": [
    "#TOPIC: String Based Questions"
   ]
  },
  {
   "cell_type": "code",
   "execution_count": 6,
   "id": "5d4617be-36cb-4206-a2e0-06946f92d901",
   "metadata": {},
   "outputs": [
    {
     "name": "stdin",
     "output_type": "stream",
     "text": [
      "enter string pwskills\n"
     ]
    },
    {
     "name": "stdout",
     "output_type": "stream",
     "text": [
      "length of string is   8\n"
     ]
    }
   ],
   "source": [
    "'''1. Write a Python program that takes a string as input and prints the length of\n",
    "the string.'''\n",
    "def str_len():\n",
    "    string=input(\"enter string\")\n",
    "    print(\"length of string is  \",len(string))\n",
    "\n",
    "str_len()"
   ]
  },
  {
   "cell_type": "code",
   "execution_count": 17,
   "id": "fc0cc098-7bbd-48f6-9b8e-6ec5ff6dc8c1",
   "metadata": {},
   "outputs": [
    {
     "name": "stdin",
     "output_type": "stream",
     "text": [
      "enter the sentence ThIs is full stack data science prO batch\n"
     ]
    },
    {
     "name": "stdout",
     "output_type": "stream",
     "text": [
      "count of vowels in sentence is 11\n"
     ]
    }
   ],
   "source": [
    "'''2. Create a program that takes a sentence from the user and counts the number\n",
    "of vowels (a, e, i, o, u) in the string.'''\n",
    "\n",
    "def vowels_count():\n",
    "    sen=input(\"enter the sentence\")\n",
    "    sen=sen.lower()\n",
    "    count_v=0\n",
    "    for i in sen:\n",
    "        if i in [\"a\",\"e\",\"i\",\"o\",\"u\"]:\n",
    "            count_v+=1\n",
    "    print(f\"count of vowels in sentence is {count_v}\")\n",
    "    \n",
    "vowels_count()\n",
    "\n"
   ]
  },
  {
   "cell_type": "code",
   "execution_count": 19,
   "id": "a42893b3-6fda-4187-965b-29463b995671",
   "metadata": {},
   "outputs": [
    {
     "name": "stdout",
     "output_type": "stream",
     "text": [
      "ECNEICSATAD\n"
     ]
    }
   ],
   "source": [
    "'''3. Given a string, reverse the order of characters using string slicing and print\n",
    "the reversed string.'''\n",
    "\n",
    "str1=\"DATASCIENCE\"\n",
    "print(str1[::-1])\n"
   ]
  },
  {
   "cell_type": "code",
   "execution_count": 23,
   "id": "d3e83938-2a90-416a-9aa7-d635095510f0",
   "metadata": {},
   "outputs": [
    {
     "name": "stdin",
     "output_type": "stream",
     "text": [
      "enter the string malayalam\n"
     ]
    },
    {
     "name": "stdout",
     "output_type": "stream",
     "text": [
      "string is Palindrome\n"
     ]
    }
   ],
   "source": [
    "'''4. Write a program that takes a string as input and checks if it is a palindrome\n",
    "(reads the same forwards and backwards).'''\n",
    "\n",
    "str1=input(\"enter the string\")\n",
    "str2=str1[::-1]\n",
    "if str1==str2:\n",
    "    print(\"string is Palindrome\")\n",
    "else:\n",
    "    print(\"string is not palindrom\")\n"
   ]
  },
  {
   "cell_type": "code",
   "execution_count": 24,
   "id": "30557813-870a-4a5c-a106-f1d9af639e04",
   "metadata": {},
   "outputs": [
    {
     "name": "stdin",
     "output_type": "stream",
     "text": [
      "enter the string my name is pwskills\n"
     ]
    },
    {
     "name": "stdout",
     "output_type": "stream",
     "text": [
      "mynameispwskills\n"
     ]
    }
   ],
   "source": [
    "'''5.Create a program that takes a string as input and removes all the spaces from\n",
    "it. Print the modified string without spaces.'''\n",
    "\n",
    "str1=input(\"enter the string\")\n",
    "str2=str1.replace(\" \",\"\")\n",
    "print(str2)\n"
   ]
  }
 ],
 "metadata": {
  "kernelspec": {
   "display_name": "Python 3 (ipykernel)",
   "language": "python",
   "name": "python3"
  },
  "language_info": {
   "codemirror_mode": {
    "name": "ipython",
    "version": 3
   },
   "file_extension": ".py",
   "mimetype": "text/x-python",
   "name": "python",
   "nbconvert_exporter": "python",
   "pygments_lexer": "ipython3",
   "version": "3.10.8"
  }
 },
 "nbformat": 4,
 "nbformat_minor": 5
}
