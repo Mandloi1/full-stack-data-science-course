{
 "cells": [
  {
   "cell_type": "code",
   "execution_count": 2,
   "id": "ee7f3cf8-959b-412a-bb4b-33af6beffe48",
   "metadata": {},
   "outputs": [],
   "source": [
    "#Sep/2/2023 class work"
   ]
  },
  {
   "cell_type": "code",
   "execution_count": 3,
   "id": "1fb56074-9b30-446f-a3b3-df30a0d3e2e5",
   "metadata": {},
   "outputs": [
    {
     "name": "stdin",
     "output_type": "stream",
     "text": [
      " 5\n"
     ]
    }
   ],
   "source": [
    "y=input()"
   ]
  },
  {
   "cell_type": "code",
   "execution_count": 4,
   "id": "17b8ffdf-f239-41c0-989b-a056f39d5eff",
   "metadata": {},
   "outputs": [
    {
     "data": {
      "text/plain": [
       "'5'"
      ]
     },
     "execution_count": 4,
     "metadata": {},
     "output_type": "execute_result"
    }
   ],
   "source": [
    "y"
   ]
  },
  {
   "cell_type": "code",
   "execution_count": 5,
   "id": "153b9baf-150b-470f-a662-d9bee928fc0d",
   "metadata": {},
   "outputs": [
    {
     "name": "stdin",
     "output_type": "stream",
     "text": [
      "enter your age 25\n"
     ]
    },
    {
     "name": "stdout",
     "output_type": "stream",
     "text": [
      "my age is 25\n"
     ]
    }
   ],
   "source": [
    "y=input(\"enter your age\")\n",
    "print(\"my age is \" + y)"
   ]
  },
  {
   "cell_type": "code",
   "execution_count": 7,
   "id": "46ab3cbf-f8f4-4c72-a213-6fb480b2eb57",
   "metadata": {},
   "outputs": [
    {
     "name": "stdin",
     "output_type": "stream",
     "text": [
      "enter number1 2\n",
      "enter number2 3\n"
     ]
    },
    {
     "name": "stdout",
     "output_type": "stream",
     "text": [
      "5\n"
     ]
    }
   ],
   "source": [
    "x=int(input(\"enter number1\"))\n",
    "y=int(input(\"enter number2\"))\n",
    "print(x+y)"
   ]
  },
  {
   "cell_type": "code",
   "execution_count": null,
   "id": "1545af0d-39c2-40d0-b31f-1b2a6875117a",
   "metadata": {},
   "outputs": [],
   "source": [
    "'''different print formates\n",
    "   1. f formate'''\n",
    "\n"
   ]
  },
  {
   "cell_type": "code",
   "execution_count": 8,
   "id": "b68e9795-0e17-4b39-851f-de082fb43576",
   "metadata": {},
   "outputs": [
    {
     "name": "stdout",
     "output_type": "stream",
     "text": [
      "hi ok monika mandloi\n"
     ]
    }
   ],
   "source": [
    "x=\"hi\"\n",
    "y=\"monika mandloi\"\n",
    "print(f\"{x} ok {y}\") # x and y is place holder"
   ]
  },
  {
   "cell_type": "code",
   "execution_count": null,
   "id": "5ecfd5d9-2d1c-47ff-86a7-490ac4e44c48",
   "metadata": {},
   "outputs": [],
   "source": [
    "#dot formate"
   ]
  },
  {
   "cell_type": "code",
   "execution_count": 10,
   "id": "5e0199b9-52fb-42ab-a093-0be56e27cd84",
   "metadata": {},
   "outputs": [
    {
     "name": "stdout",
     "output_type": "stream",
     "text": [
      "skills and pw \n"
     ]
    }
   ],
   "source": [
    "print(\"{1} and {0} \".format(\"pw\",\"skills\")) "
   ]
  },
  {
   "cell_type": "code",
   "execution_count": 3,
   "id": "772af5c0-0901-4fb2-a595-f783c4338753",
   "metadata": {},
   "outputs": [
    {
     "name": "stdout",
     "output_type": "stream",
     "text": [
      "30923480283 \n",
      " hii!!\n"
     ]
    }
   ],
   "source": [
    "print('30923480283 \\n hii!!')"
   ]
  },
  {
   "cell_type": "code",
   "execution_count": 5,
   "id": "6a16a317-35fe-4a8a-b10e-5e96dbad2f7f",
   "metadata": {},
   "outputs": [
    {
     "name": "stdout",
     "output_type": "stream",
     "text": [
      " $ \n",
      " $$ \n",
      " $$$ \n",
      " $$$$ \n",
      " $$$$$\n"
     ]
    }
   ],
   "source": [
    "print(' $ \\n $$ \\n $$$ \\n $$$$ \\n $$$$$')"
   ]
  },
  {
   "cell_type": "code",
   "execution_count": 6,
   "id": "07c1e998-41dd-4802-aaf4-44171a5ed1ab",
   "metadata": {},
   "outputs": [
    {
     "name": "stdin",
     "output_type": "stream",
     "text": [
      " cool\n"
     ]
    },
    {
     "name": "stdout",
     "output_type": "stream",
     "text": [
      "!cool!\n"
     ]
    }
   ],
   "source": [
    "x=input()\n",
    "print(f\"!{x}!\")"
   ]
  },
  {
   "cell_type": "code",
   "execution_count": 7,
   "id": "64fe8ed3-7ba0-4823-ba3a-e7fadcb35017",
   "metadata": {},
   "outputs": [
    {
     "name": "stdin",
     "output_type": "stream",
     "text": [
      " cool\n"
     ]
    },
    {
     "name": "stdout",
     "output_type": "stream",
     "text": [
      "!cool!\n"
     ]
    }
   ],
   "source": [
    "x=input()\n",
    "y=x\n",
    "z=\"!\"+y+\"!\"\n",
    "print(z)"
   ]
  },
  {
   "cell_type": "code",
   "execution_count": 8,
   "id": "35395ea1-ff6e-428f-986a-2d0fefc1a66f",
   "metadata": {},
   "outputs": [],
   "source": [
    "a=19\n",
    "b=39"
   ]
  },
  {
   "cell_type": "code",
   "execution_count": 13,
   "id": "b213d58c-5bb4-4c71-8e25-23c22878e382",
   "metadata": {},
   "outputs": [
    {
     "data": {
      "text/plain": [
       "2.0526315789473686"
      ]
     },
     "execution_count": 13,
     "metadata": {},
     "output_type": "execute_result"
    }
   ],
   "source": [
    "b/a"
   ]
  },
  {
   "cell_type": "code",
   "execution_count": 14,
   "id": "963c369c-0239-46e9-b3d5-9dd904b6a4ca",
   "metadata": {},
   "outputs": [
    {
     "data": {
      "text/plain": [
       "2"
      ]
     },
     "execution_count": 14,
     "metadata": {},
     "output_type": "execute_result"
    }
   ],
   "source": [
    "b//a"
   ]
  },
  {
   "cell_type": "code",
   "execution_count": 15,
   "id": "5ca9a5f7-4b8e-40aa-a055-56c554effe2f",
   "metadata": {},
   "outputs": [
    {
     "data": {
      "text/plain": [
       "False"
      ]
     },
     "execution_count": 15,
     "metadata": {},
     "output_type": "execute_result"
    }
   ],
   "source": [
    "a is b#check memory location"
   ]
  },
  {
   "cell_type": "code",
   "execution_count": 17,
   "id": "a3738186-88b8-4dba-ac6e-9fae93fdc597",
   "metadata": {},
   "outputs": [
    {
     "data": {
      "text/plain": [
       "False"
      ]
     },
     "execution_count": 17,
     "metadata": {},
     "output_type": "execute_result"
    }
   ],
   "source": [
    "a==b#compare values"
   ]
  },
  {
   "cell_type": "code",
   "execution_count": 16,
   "id": "19224c6f-aad4-4ab9-b99f-54cac1c413ae",
   "metadata": {},
   "outputs": [
    {
     "data": {
      "text/plain": [
       "140631417029424"
      ]
     },
     "execution_count": 16,
     "metadata": {},
     "output_type": "execute_result"
    }
   ],
   "source": [
    "id(a)"
   ]
  },
  {
   "cell_type": "code",
   "execution_count": 1,
   "id": "8b1e2531-65d5-4928-90e9-08b79489fc24",
   "metadata": {},
   "outputs": [
    {
     "name": "stdin",
     "output_type": "stream",
     "text": [
      "enter the integer 10\n"
     ]
    }
   ],
   "source": [
    "x=int(input(\"enter the integer\"))"
   ]
  },
  {
   "cell_type": "code",
   "execution_count": 6,
   "id": "6d6dfc3e-6ca7-441a-a5ec-c3be02cd42f1",
   "metadata": {},
   "outputs": [
    {
     "name": "stdin",
     "output_type": "stream",
     "text": [
      "enter the integer 10\n"
     ]
    }
   ],
   "source": [
    "y=int(input(\"enter the integer\"))"
   ]
  },
  {
   "cell_type": "code",
   "execution_count": 7,
   "id": "668ccd56-4042-42e6-8de9-4b723a6f1e84",
   "metadata": {},
   "outputs": [
    {
     "data": {
      "text/plain": [
       "10"
      ]
     },
     "execution_count": 7,
     "metadata": {},
     "output_type": "execute_result"
    }
   ],
   "source": [
    "y"
   ]
  },
  {
   "cell_type": "code",
   "execution_count": 9,
   "id": "e72932e4-1974-4ec5-8042-b657f8f3c89c",
   "metadata": {},
   "outputs": [
    {
     "data": {
      "text/plain": [
       "5003154509899971.0"
      ]
     },
     "execution_count": 9,
     "metadata": {},
     "output_type": "execute_result"
    }
   ],
   "source": [
    "(3**35)/y"
   ]
  },
  {
   "cell_type": "code",
   "execution_count": 11,
   "id": "e95e3f1a-1e75-4b4f-a7a8-4312a1c1873e",
   "metadata": {},
   "outputs": [
    {
     "ename": "NameError",
     "evalue": "name 'math' is not defined",
     "output_type": "error",
     "traceback": [
      "\u001b[0;31m---------------------------------------------------------------------------\u001b[0m",
      "\u001b[0;31mNameError\u001b[0m                                 Traceback (most recent call last)",
      "Cell \u001b[0;32mIn[11], line 1\u001b[0m\n\u001b[0;32m----> 1\u001b[0m \u001b[43mmath\u001b[49m\u001b[38;5;241m.\u001b[39msqrt(\u001b[38;5;241m36\u001b[39m)\n",
      "\u001b[0;31mNameError\u001b[0m: name 'math' is not defined"
     ]
    }
   ],
   "source": [
    "math.sqrt(36)"
   ]
  },
  {
   "cell_type": "code",
   "execution_count": 14,
   "id": "2b5fd2fc-ba80-4526-8e01-11c8c621df84",
   "metadata": {},
   "outputs": [],
   "source": [
    "a=10\n",
    "b=4"
   ]
  },
  {
   "cell_type": "code",
   "execution_count": 15,
   "id": "cbbd75e6-8f96-446d-9937-2aeeb263cd75",
   "metadata": {},
   "outputs": [
    {
     "data": {
      "text/plain": [
       "'0b100'"
      ]
     },
     "execution_count": 15,
     "metadata": {},
     "output_type": "execute_result"
    }
   ],
   "source": [
    "bin(a)\n",
    "bin(b)"
   ]
  },
  {
   "cell_type": "code",
   "execution_count": 16,
   "id": "56d1daf3-adf8-48f1-acfd-c7fca60ee2a6",
   "metadata": {},
   "outputs": [
    {
     "data": {
      "text/plain": [
       "0"
      ]
     },
     "execution_count": 16,
     "metadata": {},
     "output_type": "execute_result"
    }
   ],
   "source": [
    "a & b #bitwise operator and"
   ]
  },
  {
   "cell_type": "code",
   "execution_count": 17,
   "id": "11c6b295-230c-42ff-8048-aaab470118db",
   "metadata": {},
   "outputs": [
    {
     "data": {
      "text/plain": [
       "14"
      ]
     },
     "execution_count": 17,
     "metadata": {},
     "output_type": "execute_result"
    }
   ],
   "source": [
    "a | b # or"
   ]
  },
  {
   "cell_type": "code",
   "execution_count": 18,
   "id": "ef594f4f-60ee-4061-a742-0b88d1b60c11",
   "metadata": {},
   "outputs": [
    {
     "data": {
      "text/plain": [
       "-11"
      ]
     },
     "execution_count": 18,
     "metadata": {},
     "output_type": "execute_result"
    }
   ],
   "source": [
    "~a #not operator"
   ]
  },
  {
   "cell_type": "code",
   "execution_count": 19,
   "id": "0c3daafd-c6cb-41cc-8c8a-d6f70d76e531",
   "metadata": {},
   "outputs": [
    {
     "data": {
      "text/plain": [
       "14"
      ]
     },
     "execution_count": 19,
     "metadata": {},
     "output_type": "execute_result"
    }
   ],
   "source": [
    "a ^ b #xor operator"
   ]
  },
  {
   "cell_type": "code",
   "execution_count": 20,
   "id": "39ca6304-b381-40aa-8c66-7ecbf9489d18",
   "metadata": {},
   "outputs": [
    {
     "data": {
      "text/plain": [
       "5"
      ]
     },
     "execution_count": 20,
     "metadata": {},
     "output_type": "execute_result"
    }
   ],
   "source": [
    "a>>1"
   ]
  },
  {
   "cell_type": "code",
   "execution_count": 21,
   "id": "6d9f8b98-bb1b-4255-9910-54ebe9f66b8a",
   "metadata": {},
   "outputs": [
    {
     "data": {
      "text/plain": [
       "20"
      ]
     },
     "execution_count": 21,
     "metadata": {},
     "output_type": "execute_result"
    }
   ],
   "source": [
    "a<<1"
   ]
  },
  {
   "cell_type": "code",
   "execution_count": 1,
   "id": "4dcad5f5-f75e-478f-bba0-658d10b6da4f",
   "metadata": {},
   "outputs": [],
   "source": [
    "a=10\n",
    "b=7"
   ]
  },
  {
   "cell_type": "code",
   "execution_count": 2,
   "id": "e4c50ea6-92f8-4670-97df-7994b62ed36e",
   "metadata": {},
   "outputs": [
    {
     "data": {
      "text/plain": [
       "False"
      ]
     },
     "execution_count": 2,
     "metadata": {},
     "output_type": "execute_result"
    }
   ],
   "source": [
    "a>10 and b>6"
   ]
  },
  {
   "cell_type": "code",
   "execution_count": 3,
   "id": "51e975d7-fe1a-4d54-8b50-e9c4536535f7",
   "metadata": {},
   "outputs": [
    {
     "data": {
      "text/plain": [
       "True"
      ]
     },
     "execution_count": 3,
     "metadata": {},
     "output_type": "execute_result"
    }
   ],
   "source": [
    "a>10 or b>6"
   ]
  },
  {
   "cell_type": "code",
   "execution_count": 4,
   "id": "3a96c4e1-d5d7-44ed-b37c-a7d04d365bf9",
   "metadata": {},
   "outputs": [
    {
     "data": {
      "text/plain": [
       "False"
      ]
     },
     "execution_count": 4,
     "metadata": {},
     "output_type": "execute_result"
    }
   ],
   "source": [
    "not(a)"
   ]
  },
  {
   "cell_type": "code",
   "execution_count": 5,
   "id": "4237ea7f-3714-4a24-9862-64fdb147005d",
   "metadata": {},
   "outputs": [
    {
     "data": {
      "text/plain": [
       "'bit wise operation \\n& ---- and \\n| ----or\\n^ ----xor\\n~----- negation\\n<< ----left shift\\n>> ---- right shift'"
      ]
     },
     "execution_count": 5,
     "metadata": {},
     "output_type": "execute_result"
    }
   ],
   "source": [
    "'''bit wise operation \n",
    "& ---- and \n",
    "| ----or\n",
    "^ ----xor\n",
    "~----- negation\n",
    "<< ----left shift\n",
    ">> ---- right shift'''"
   ]
  },
  {
   "cell_type": "code",
   "execution_count": 6,
   "id": "299fd7a3-c805-448f-9e8e-53dedf68339f",
   "metadata": {},
   "outputs": [
    {
     "data": {
      "text/plain": [
       "'0b1010'"
      ]
     },
     "execution_count": 6,
     "metadata": {},
     "output_type": "execute_result"
    }
   ],
   "source": [
    "bin(a)"
   ]
  },
  {
   "cell_type": "code",
   "execution_count": 7,
   "id": "8a0d0027-794b-45e7-95aa-35214e0bfd04",
   "metadata": {},
   "outputs": [
    {
     "data": {
      "text/plain": [
       "'0b111'"
      ]
     },
     "execution_count": 7,
     "metadata": {},
     "output_type": "execute_result"
    }
   ],
   "source": [
    "bin(b)"
   ]
  },
  {
   "cell_type": "code",
   "execution_count": 8,
   "id": "36ce0823-7b38-424f-ac08-d80740ee29e1",
   "metadata": {},
   "outputs": [
    {
     "data": {
      "text/plain": [
       "2"
      ]
     },
     "execution_count": 8,
     "metadata": {},
     "output_type": "execute_result"
    }
   ],
   "source": [
    "a & b"
   ]
  },
  {
   "cell_type": "code",
   "execution_count": 9,
   "id": "23ef2ba8-3d30-4618-b0b5-bd0c8a39ba38",
   "metadata": {},
   "outputs": [
    {
     "data": {
      "text/plain": [
       "15"
      ]
     },
     "execution_count": 9,
     "metadata": {},
     "output_type": "execute_result"
    }
   ],
   "source": [
    "a|b"
   ]
  },
  {
   "cell_type": "code",
   "execution_count": 11,
   "id": "b96743ab-125c-40a9-9f7e-5a4afe7b55de",
   "metadata": {},
   "outputs": [
    {
     "data": {
      "text/plain": [
       "13"
      ]
     },
     "execution_count": 11,
     "metadata": {},
     "output_type": "execute_result"
    }
   ],
   "source": [
    "a ^ b"
   ]
  },
  {
   "cell_type": "code",
   "execution_count": null,
   "id": "8a9f16c5-546e-49e2-b08b-85e19b2fa2c5",
   "metadata": {},
   "outputs": [],
   "source": [
    "'''xor true table\n",
    "1010\n",
    "0111\n",
    "1101'''"
   ]
  },
  {
   "cell_type": "code",
   "execution_count": 12,
   "id": "89196bce-6a44-4635-aa9e-fce786910f75",
   "metadata": {},
   "outputs": [
    {
     "data": {
      "text/plain": [
       "-11"
      ]
     },
     "execution_count": 12,
     "metadata": {},
     "output_type": "execute_result"
    }
   ],
   "source": [
    "~a\n",
    "#shortcut for negation is add +1 and put - sign\n",
    "#in actual it is 2's complement of negation"
   ]
  },
  {
   "cell_type": "code",
   "execution_count": 13,
   "id": "e16c036f-2b20-486c-9746-fba03ae75513",
   "metadata": {},
   "outputs": [],
   "source": [
    "a=-12"
   ]
  },
  {
   "cell_type": "code",
   "execution_count": 14,
   "id": "b7c28a43-f110-4860-8c7b-dc8b00e7cf2d",
   "metadata": {},
   "outputs": [
    {
     "data": {
      "text/plain": [
       "11"
      ]
     },
     "execution_count": 14,
     "metadata": {},
     "output_type": "execute_result"
    }
   ],
   "source": [
    "~a"
   ]
  },
  {
   "cell_type": "code",
   "execution_count": 15,
   "id": "3d8040d5-86a7-4463-8535-b62a565b324d",
   "metadata": {},
   "outputs": [],
   "source": [
    "x=[1,2,3,4]"
   ]
  },
  {
   "cell_type": "code",
   "execution_count": 16,
   "id": "b329dfc1-a5a4-4558-8c86-b49d57092d42",
   "metadata": {},
   "outputs": [
    {
     "data": {
      "text/plain": [
       "True"
      ]
     },
     "execution_count": 16,
     "metadata": {},
     "output_type": "execute_result"
    }
   ],
   "source": [
    "2 in x"
   ]
  },
  {
   "cell_type": "code",
   "execution_count": 17,
   "id": "63e7d312-32f8-4447-a045-7038dd7f14be",
   "metadata": {},
   "outputs": [],
   "source": [
    "a=10"
   ]
  },
  {
   "cell_type": "code",
   "execution_count": 18,
   "id": "5411d0c6-c218-4db0-9a4f-ada76c07f99c",
   "metadata": {},
   "outputs": [
    {
     "data": {
      "text/plain": [
       "20"
      ]
     },
     "execution_count": 18,
     "metadata": {},
     "output_type": "execute_result"
    }
   ],
   "source": [
    "a<<1"
   ]
  },
  {
   "cell_type": "code",
   "execution_count": 19,
   "id": "0785c6f5-7090-4c4a-83ed-4da165a16e69",
   "metadata": {},
   "outputs": [
    {
     "data": {
      "text/plain": [
       "40"
      ]
     },
     "execution_count": 19,
     "metadata": {},
     "output_type": "execute_result"
    }
   ],
   "source": [
    "a<<2"
   ]
  },
  {
   "cell_type": "code",
   "execution_count": 20,
   "id": "3ab265dd-8fc3-44da-9d82-12e6eee94b8d",
   "metadata": {},
   "outputs": [
    {
     "data": {
      "text/plain": [
       "5"
      ]
     },
     "execution_count": 20,
     "metadata": {},
     "output_type": "execute_result"
    }
   ],
   "source": [
    "a>>1"
   ]
  },
  {
   "cell_type": "code",
   "execution_count": 21,
   "id": "d2a0c302-1b14-49e3-bb5f-b80428396474",
   "metadata": {},
   "outputs": [
    {
     "data": {
      "text/plain": [
       "' if \\nif else\\nif elif else'"
      ]
     },
     "execution_count": 21,
     "metadata": {},
     "output_type": "execute_result"
    }
   ],
   "source": [
    "#control satatments\n",
    "''' if \n",
    "if else\n",
    "if elif else'''"
   ]
  },
  {
   "cell_type": "code",
   "execution_count": 24,
   "id": "0fc67a8a-0eed-45bf-a7a6-b015ad4d6903",
   "metadata": {},
   "outputs": [],
   "source": [
    "age =19"
   ]
  },
  {
   "cell_type": "code",
   "execution_count": 25,
   "id": "b7372312-98bb-486f-b16e-fee9285e1299",
   "metadata": {},
   "outputs": [
    {
     "name": "stdout",
     "output_type": "stream",
     "text": [
      "you can drive\n"
     ]
    }
   ],
   "source": [
    "if age>=18:\n",
    "    print(\"you can drive\")"
   ]
  },
  {
   "cell_type": "code",
   "execution_count": 27,
   "id": "7617a5ad-09ac-4b2d-9c5d-7572e2145b54",
   "metadata": {},
   "outputs": [
    {
     "name": "stdout",
     "output_type": "stream",
     "text": [
      "you can not drive\n"
     ]
    }
   ],
   "source": [
    "age=17\n",
    "if age>=18:\n",
    "    print('you can drive')\n",
    "else:\n",
    "    print(\"you can not drive\")"
   ]
  },
  {
   "cell_type": "code",
   "execution_count": 29,
   "id": "53a1802a-be91-4019-aca2-f54a4f76f2a0",
   "metadata": {},
   "outputs": [
    {
     "name": "stdout",
     "output_type": "stream",
     "text": [
      "you are failed\n"
     ]
    }
   ],
   "source": [
    "score=40\n",
    " \n",
    "if score>=90:\n",
    "    print(\"your grade is A+\")\n",
    "elif score>=80:\n",
    "    print(\"your grade is A\")\n",
    "elif score>=70:\n",
    "    print(\"your grade is B\")\n",
    "else:\n",
    "    print(\"you are failed\")"
   ]
  },
  {
   "cell_type": "code",
   "execution_count": 32,
   "id": "7f76f876-f2e7-4b53-a138-569ba1f382ea",
   "metadata": {},
   "outputs": [
    {
     "name": "stdin",
     "output_type": "stream",
     "text": [
      "enter the integer between 0 to 23 23\n"
     ]
    },
    {
     "name": "stdout",
     "output_type": "stream",
     "text": [
      "evening\n"
     ]
    }
   ],
   "source": [
    "T=int(input(\"enter the integer between 0 to 23\"))\n",
    "      \n",
    "if T<0:\n",
    "      print(\"invalid\")\n",
    "elif 0<=T<=5:\n",
    "      print(\"night\")\n",
    "elif 6<=T<=11:\n",
    "      print(\"morning\")\n",
    "elif 12<=T<=17:\n",
    "      print(\"afternoon\")\n",
    "elif 18<=T<=23:\n",
    "      print(\"evening\")\n",
    "else:\n",
    "      print(\"invalid\")    \n",
    "      "
   ]
  },
  {
   "cell_type": "code",
   "execution_count": null,
   "id": "6234fc30-61f9-47f8-a8f5-722c7dfc6ea2",
   "metadata": {},
   "outputs": [],
   "source": [
    "# find largest number from 3 given number"
   ]
  },
  {
   "cell_type": "code",
   "execution_count": 34,
   "id": "fedbc219-bdac-49ca-a6c3-beebef12be6e",
   "metadata": {},
   "outputs": [
    {
     "name": "stdout",
     "output_type": "stream",
     "text": [
      "largest number is  3754\n"
     ]
    }
   ],
   "source": [
    "n1=12\n",
    "n2=3754\n",
    "n3=62\n",
    "\n",
    "if (n1>=n2) and (n1>=n3):\n",
    "    largest=n1\n",
    "    print(\"largest number is \",largest)\n",
    "\n",
    "elif (n2>=n1) and (n2>=n3):\n",
    "    largest=n2\n",
    "    print(\"largest number is \",largest)\n",
    "else:\n",
    "    largest=n3\n",
    "    print(\"largest number is \",largest)"
   ]
  },
  {
   "cell_type": "code",
   "execution_count": 35,
   "id": "4691b487-1806-44c8-9cbd-44082c711491",
   "metadata": {},
   "outputs": [],
   "source": [
    "# build a simple calculator for +,-,*,/"
   ]
  },
  {
   "cell_type": "code",
   "execution_count": 3,
   "id": "ceb9bc7e-ca14-40e8-bee9-f57ef9cc62e3",
   "metadata": {},
   "outputs": [
    {
     "name": "stdin",
     "output_type": "stream",
     "text": [
      "user input for add, sub, mul or divd sub\n",
      "enter number one 543\n",
      "enter number2  657\n"
     ]
    },
    {
     "name": "stdout",
     "output_type": "stream",
     "text": [
      "sub number -114\n"
     ]
    }
   ],
   "source": [
    "cal=input(\"user input for add, sub, mul or divd\")\n",
    "a=int(input(\"enter number one\"))\n",
    "b=int(input(\"enter number2 \"))\n",
    "\n",
    "if cal=='add':\n",
    "    print(\"add number\", a+b)\n",
    "elif cal=='sub':\n",
    "    print(\"sub number\",a-b)\n",
    "elif cal=='mul':\n",
    "    print(\"mul number\",a*b)\n",
    "else:\n",
    "    print(\"divd number\",a/b)\n",
    "    "
   ]
  },
  {
   "cell_type": "code",
   "execution_count": 1,
   "id": "7cc1a13d-33c0-4a68-b587-5dedab5e40af",
   "metadata": {},
   "outputs": [
    {
     "name": "stdout",
     "output_type": "stream",
     "text": [
      "num is positive\n"
     ]
    }
   ],
   "source": [
    "num=10\n",
    "\n",
    "if num>=0:\n",
    "    if num==0:\n",
    "        print(\"num is 0\")\n",
    "    else:\n",
    "        print(\"num is positive\")\n",
    "else:\n",
    "    print(\"num is negative\")"
   ]
  },
  {
   "cell_type": "code",
   "execution_count": 2,
   "id": "4be30d4c-4c93-4b7f-b07c-139f19383839",
   "metadata": {},
   "outputs": [
    {
     "data": {
      "text/plain": [
       "range(0, 5)"
      ]
     },
     "execution_count": 2,
     "metadata": {},
     "output_type": "execute_result"
    }
   ],
   "source": [
    "#Range function - range(start,stop, step)\n",
    "range(0,5)"
   ]
  },
  {
   "cell_type": "code",
   "execution_count": 3,
   "id": "07eba375-646f-4bef-a130-e397896bf439",
   "metadata": {},
   "outputs": [
    {
     "data": {
      "text/plain": [
       "[0, 1, 2, 3, 4]"
      ]
     },
     "execution_count": 3,
     "metadata": {},
     "output_type": "execute_result"
    }
   ],
   "source": [
    "list(range(0,5))"
   ]
  },
  {
   "cell_type": "code",
   "execution_count": 4,
   "id": "32068f1c-3323-496c-a805-fccd0bbe5dee",
   "metadata": {},
   "outputs": [
    {
     "data": {
      "text/plain": [
       "[45,\n",
       " 46,\n",
       " 47,\n",
       " 48,\n",
       " 49,\n",
       " 50,\n",
       " 51,\n",
       " 52,\n",
       " 53,\n",
       " 54,\n",
       " 55,\n",
       " 56,\n",
       " 57,\n",
       " 58,\n",
       " 59,\n",
       " 60,\n",
       " 61,\n",
       " 62,\n",
       " 63,\n",
       " 64,\n",
       " 65,\n",
       " 66,\n",
       " 67,\n",
       " 68,\n",
       " 69,\n",
       " 70,\n",
       " 71,\n",
       " 72,\n",
       " 73,\n",
       " 74,\n",
       " 75,\n",
       " 76,\n",
       " 77]"
      ]
     },
     "execution_count": 4,
     "metadata": {},
     "output_type": "execute_result"
    }
   ],
   "source": [
    "list(range(45,78))"
   ]
  },
  {
   "cell_type": "code",
   "execution_count": 5,
   "id": "9d540162-88a7-4a42-886b-0637e617c51f",
   "metadata": {},
   "outputs": [
    {
     "data": {
      "text/plain": [
       "[2, 4, 6, 8, 10]"
      ]
     },
     "execution_count": 5,
     "metadata": {},
     "output_type": "execute_result"
    }
   ],
   "source": [
    "list(range(2,12,2))"
   ]
  },
  {
   "cell_type": "code",
   "execution_count": null,
   "id": "70f4870d-5833-4486-ac6f-d48b02c17b3e",
   "metadata": {},
   "outputs": [],
   "source": [
    "#loops-iteration, repetations"
   ]
  },
  {
   "cell_type": "code",
   "execution_count": 6,
   "id": "ed134973-7c0a-4f3f-8f02-071c2075c0eb",
   "metadata": {},
   "outputs": [
    {
     "name": "stdout",
     "output_type": "stream",
     "text": [
      "0\n",
      "1\n",
      "2\n",
      "3\n",
      "4\n",
      "5\n"
     ]
    }
   ],
   "source": [
    "for i in range(6):\n",
    "    print(i)"
   ]
  },
  {
   "cell_type": "code",
   "execution_count": 8,
   "id": "554355e4-e02d-4ab7-8d3c-943736d9c6ad",
   "metadata": {},
   "outputs": [
    {
     "name": "stdout",
     "output_type": "stream",
     "text": [
      "india\n",
      "UK\n",
      "US\n"
     ]
    }
   ],
   "source": [
    "country=[\"india\", \"UK\",\"US\"]\n",
    "\n",
    "for i in range(len(country)):\n",
    "    print(country[i])"
   ]
  },
  {
   "cell_type": "code",
   "execution_count": 9,
   "id": "bf60e795-781b-4912-abb9-308cc5b23ce2",
   "metadata": {},
   "outputs": [
    {
     "name": "stdout",
     "output_type": "stream",
     "text": [
      "0\n",
      "1\n",
      "2\n"
     ]
    }
   ],
   "source": [
    "country=[\"india\", \"UK\",\"US\"]\n",
    "\n",
    "for i in range(len(country)):\n",
    "    print(i)"
   ]
  },
  {
   "cell_type": "code",
   "execution_count": 12,
   "id": "0bb6ecd7-a642-4a5c-8380-433863fe5c04",
   "metadata": {},
   "outputs": [
    {
     "data": {
      "text/plain": [
       "dict_keys(['x1', 'x2', 'x3'])"
      ]
     },
     "execution_count": 12,
     "metadata": {},
     "output_type": "execute_result"
    }
   ],
   "source": [
    "dict1={\"x1\":1,\"x2\":2,\"x3\":3}\n",
    "dict1.keys()\n",
    "dict1.values()"
   ]
  },
  {
   "cell_type": "code",
   "execution_count": 14,
   "id": "c329754c-ca04-4b10-ae94-7f85327125de",
   "metadata": {},
   "outputs": [
    {
     "name": "stdout",
     "output_type": "stream",
     "text": [
      "x1\n",
      "x2\n",
      "x3\n"
     ]
    }
   ],
   "source": [
    "for i in dict1:\n",
    "    print(i)"
   ]
  },
  {
   "cell_type": "code",
   "execution_count": 15,
   "id": "423af1db-c329-4f44-9c43-cd21cb2adae8",
   "metadata": {},
   "outputs": [
    {
     "name": "stdout",
     "output_type": "stream",
     "text": [
      "x1 1\n",
      "x2 2\n",
      "x3 3\n"
     ]
    }
   ],
   "source": [
    "for i in dict1:\n",
    "    print(i,dict1[i])"
   ]
  },
  {
   "cell_type": "code",
   "execution_count": 16,
   "id": "e9289a38-13b3-4ab7-b643-87d5c6d533b1",
   "metadata": {},
   "outputs": [
    {
     "name": "stdout",
     "output_type": "stream",
     "text": [
      "j\n",
      "a\n",
      "i\n",
      "s\n",
      "h\n",
      "r\n",
      "e\n",
      "e\n",
      "k\n",
      "r\n",
      "i\n",
      "s\n",
      "h\n",
      "a\n",
      "n\n",
      "a\n"
     ]
    }
   ],
   "source": [
    "i=\"jaishreekrishana\"\n",
    "for j in i:\n",
    "    print(j)"
   ]
  },
  {
   "cell_type": "code",
   "execution_count": 19,
   "id": "88749d1d-e739-4651-8c1c-ae4459b79851",
   "metadata": {},
   "outputs": [
    {
     "name": "stdout",
     "output_type": "stream",
     "text": [
      "0\n",
      "***1\n",
      "***2\n",
      "***3\n",
      "***4\n",
      "***5\n",
      "***6\n",
      "***7\n",
      "***8\n",
      "***9\n",
      "***"
     ]
    }
   ],
   "source": [
    "for i in range(10):\n",
    "    print(i,end='\\n***')"
   ]
  },
  {
   "cell_type": "code",
   "execution_count": 21,
   "id": "684d0760-c941-4fab-92d2-11b755c8a366",
   "metadata": {},
   "outputs": [
    {
     "name": "stdout",
     "output_type": "stream",
     "text": [
      "0\n",
      "1\n",
      "2\n",
      "3\n",
      "4\n",
      "done\n"
     ]
    }
   ],
   "source": [
    "for i in range(5):\n",
    "    print(i)\n",
    "else:\n",
    "    print(\"done\")"
   ]
  },
  {
   "cell_type": "code",
   "execution_count": 25,
   "id": "c4b254e8-e542-4264-b371-4564453d49a3",
   "metadata": {},
   "outputs": [
    {
     "name": "stdout",
     "output_type": "stream",
     "text": [
      "* \n",
      "* * \n",
      "* * * \n",
      "* * * * \n",
      "* * * * * \n"
     ]
    }
   ],
   "source": [
    "for i in range(5):\n",
    "    for j in range(i+1):\n",
    "        print(\"*\",end=' ')\n",
    "    print()\n",
    "   "
   ]
  },
  {
   "cell_type": "code",
   "execution_count": 27,
   "id": "2c2af907-4b50-4fec-bbe4-e8f33ead7c14",
   "metadata": {},
   "outputs": [
    {
     "name": "stdout",
     "output_type": "stream",
     "text": [
      "* * * * * \n",
      "* * * * \n",
      "* * * \n",
      "* * \n",
      "* \n"
     ]
    }
   ],
   "source": [
    "for i in range(5,0,-1):\n",
    "    for j in range(i,0,-1):\n",
    "        print('*',end=' ')\n",
    "    print()"
   ]
  },
  {
   "cell_type": "code",
   "execution_count": 28,
   "id": "f3d86642-40f6-4aed-8977-7f36b938c781",
   "metadata": {},
   "outputs": [
    {
     "name": "stdout",
     "output_type": "stream",
     "text": [
      "1 2 3 4 5 \n",
      "2 4 6 8 10 \n",
      "3 6 9 12 15 \n",
      "4 8 12 16 20 \n",
      "5 10 15 20 25 \n"
     ]
    }
   ],
   "source": [
    "for i in range(1,6):\n",
    "    for j in range(1,6):\n",
    "        print(i*j, end=' ')\n",
    "    print()"
   ]
  },
  {
   "cell_type": "code",
   "execution_count": 29,
   "id": "dfb70c5d-23c8-4632-a6c9-dd88f35606f6",
   "metadata": {},
   "outputs": [
    {
     "name": "stdout",
     "output_type": "stream",
     "text": [
      "1\n",
      "2\n",
      "3\n",
      "4\n",
      "5\n"
     ]
    }
   ],
   "source": [
    "count=1\n",
    "\n",
    "while count<=5:\n",
    "    print(count)\n",
    "    count+=1"
   ]
  },
  {
   "cell_type": "code",
   "execution_count": 31,
   "id": "099e7a21-6cc7-4ad1-800f-40b6298e5ee3",
   "metadata": {},
   "outputs": [
    {
     "name": "stdin",
     "output_type": "stream",
     "text": [
      "enter the number 6\n"
     ]
    },
    {
     "name": "stdout",
     "output_type": "stream",
     "text": [
      "you enter the 6\n"
     ]
    },
    {
     "name": "stdin",
     "output_type": "stream",
     "text": [
      "enter the number 8\n"
     ]
    },
    {
     "name": "stdout",
     "output_type": "stream",
     "text": [
      "you enter the 8\n"
     ]
    },
    {
     "name": "stdin",
     "output_type": "stream",
     "text": [
      "enter the number gffh\n"
     ]
    },
    {
     "name": "stdout",
     "output_type": "stream",
     "text": [
      "you enter the gffh\n"
     ]
    },
    {
     "name": "stdin",
     "output_type": "stream",
     "text": [
      "enter the number 90i\n"
     ]
    },
    {
     "name": "stdout",
     "output_type": "stream",
     "text": [
      "you enter the 90i\n"
     ]
    },
    {
     "name": "stdin",
     "output_type": "stream",
     "text": [
      "enter the number quit\n"
     ]
    },
    {
     "name": "stdout",
     "output_type": "stream",
     "text": [
      "you enter the quit\n"
     ]
    }
   ],
   "source": [
    "text =\" \"\n",
    "\n",
    "while text!=\"quit\":\n",
    "    text=input(\"enter the number\")\n",
    "    print(\"you enter the\",text)\n",
    "    "
   ]
  },
  {
   "cell_type": "code",
   "execution_count": null,
   "id": "43166a68-6110-4709-925c-fe6a217a2bb9",
   "metadata": {},
   "outputs": [],
   "source": [
    "'''if you know how many times you have to iterate the loop then use for loop otherwise while'''"
   ]
  },
  {
   "cell_type": "code",
   "execution_count": 2,
   "id": "13af1a02-587d-4bb5-9284-1fd2202b963d",
   "metadata": {},
   "outputs": [
    {
     "name": "stdout",
     "output_type": "stream",
     "text": [
      "positive\n",
      "one\n"
     ]
    }
   ],
   "source": [
    "num =1\n",
    "\n",
    "if num>0:\n",
    "    print(\"positive\")\n",
    "if num==1:\n",
    "    print(\"one\")\n",
    "else:\n",
    "    print(\"negative\")"
   ]
  },
  {
   "cell_type": "code",
   "execution_count": null,
   "id": "2b1fa021-ba51-4a70-bb3d-592c165e78c6",
   "metadata": {},
   "outputs": [],
   "source": [
    "#split() function"
   ]
  },
  {
   "cell_type": "code",
   "execution_count": 3,
   "id": "f9e196e7-584c-4c42-8114-ec68f1f138cc",
   "metadata": {},
   "outputs": [
    {
     "data": {
      "text/plain": [
       "['i', 'write', 'code']"
      ]
     },
     "execution_count": 3,
     "metadata": {},
     "output_type": "execute_result"
    }
   ],
   "source": [
    "text=\" i write code\"\n",
    "\n",
    "text.split()"
   ]
  },
  {
   "cell_type": "code",
   "execution_count": 4,
   "id": "d6f0e4bb-1e88-488a-a852-c3ee5e847719",
   "metadata": {},
   "outputs": [
    {
     "data": {
      "text/plain": [
       "['i l', 've pyt', 'n']"
      ]
     },
     "execution_count": 4,
     "metadata": {},
     "output_type": "execute_result"
    }
   ],
   "source": [
    "text = \"i love pyton\"\n",
    "text.split(\"o\")"
   ]
  },
  {
   "cell_type": "code",
   "execution_count": 7,
   "id": "3daa05fd-de79-4377-bb15-9bc6d196c68a",
   "metadata": {},
   "outputs": [],
   "source": [
    "w1,w2,w3=text.split()"
   ]
  },
  {
   "cell_type": "code",
   "execution_count": 9,
   "id": "be72417f-c7d6-4315-baff-b28cd58f4453",
   "metadata": {},
   "outputs": [
    {
     "data": {
      "text/plain": [
       "'i'"
      ]
     },
     "execution_count": 9,
     "metadata": {},
     "output_type": "execute_result"
    }
   ],
   "source": [
    "w1"
   ]
  },
  {
   "cell_type": "code",
   "execution_count": 10,
   "id": "f0097f92-c3cc-4a4e-832e-586ab4459693",
   "metadata": {},
   "outputs": [
    {
     "data": {
      "text/plain": [
       "'love'"
      ]
     },
     "execution_count": 10,
     "metadata": {},
     "output_type": "execute_result"
    }
   ],
   "source": [
    "w2"
   ]
  },
  {
   "cell_type": "code",
   "execution_count": 13,
   "id": "6d2c1c76-55e0-481f-b570-87ec2e81f5ba",
   "metadata": {},
   "outputs": [
    {
     "name": "stdin",
     "output_type": "stream",
     "text": [
      "enter two num 1 2\n"
     ]
    },
    {
     "name": "stdout",
     "output_type": "stream",
     "text": [
      "3\n"
     ]
    }
   ],
   "source": [
    "a,b=input(\"enter two num\").split()\n",
    "c=int(a)+int(b)\n",
    "print(c)"
   ]
  },
  {
   "cell_type": "code",
   "execution_count": 14,
   "id": "12d587e3-48bb-4ec5-bb00-6212158a4afa",
   "metadata": {},
   "outputs": [
    {
     "name": "stdin",
     "output_type": "stream",
     "text": [
      "enter roll no., name and perc 8298213 moni 35\n"
     ]
    },
    {
     "name": "stdout",
     "output_type": "stream",
     "text": [
      "8298213 moni 35\n"
     ]
    }
   ],
   "source": [
    "s=input(\"enter roll no., name and perc\")\n",
    "roll,name,perc=s.split()\n",
    "print(roll,name,perc)"
   ]
  },
  {
   "cell_type": "code",
   "execution_count": 16,
   "id": "57e9399b-9663-4f14-a159-00e61ca12abc",
   "metadata": {},
   "outputs": [
    {
     "data": {
      "text/plain": [
       "11"
      ]
     },
     "execution_count": 16,
     "metadata": {},
     "output_type": "execute_result"
    }
   ],
   "source": [
    "s1=\"A B C D E F\"\n",
    "len(s1)"
   ]
  },
  {
   "cell_type": "code",
   "execution_count": 20,
   "id": "05e34522-93ad-44dc-9b4b-944d880adb7e",
   "metadata": {},
   "outputs": [
    {
     "name": "stdout",
     "output_type": "stream",
     "text": [
      "['A', 'B', 'C', 'D', 'E', 'F']\n"
     ]
    }
   ],
   "source": [
    "print(s1.split(' ',6))#max split "
   ]
  },
  {
   "cell_type": "code",
   "execution_count": 21,
   "id": "3049d2a3-8101-493d-b522-003cfe65458a",
   "metadata": {},
   "outputs": [
    {
     "data": {
      "text/plain": [
       "['HI', 'HI', 'HI@HI@HI']"
      ]
     },
     "execution_count": 21,
     "metadata": {},
     "output_type": "execute_result"
    }
   ],
   "source": [
    "s1=\"HI@HI@HI@HI@HI\"\n",
    "s1.split('@',2)"
   ]
  },
  {
   "cell_type": "code",
   "execution_count": 22,
   "id": "e6b26970-94c8-49d2-9dae-289735fed8fb",
   "metadata": {},
   "outputs": [
    {
     "name": "stdout",
     "output_type": "stream",
     "text": [
      "letter p\n",
      "letter w\n",
      "letter s\n",
      "letter k\n",
      "letter i\n",
      "letter l\n",
      "letter l\n",
      "letter s\n"
     ]
    }
   ],
   "source": [
    "for letter in \"pwskills\":\n",
    "    print('letter',letter)"
   ]
  },
  {
   "cell_type": "code",
   "execution_count": null,
   "id": "9e4075eb-a476-45ae-a9f5-da74ec991be0",
   "metadata": {},
   "outputs": [],
   "source": [
    "#break statment"
   ]
  },
  {
   "cell_type": "code",
   "execution_count": 23,
   "id": "86492b48-61af-4d4d-83bd-a0027f99cbd9",
   "metadata": {},
   "outputs": [
    {
     "name": "stdout",
     "output_type": "stream",
     "text": [
      "letter p\n",
      "letter w\n",
      "letter s\n",
      "letter k\n",
      "letter i\n"
     ]
    }
   ],
   "source": [
    "for letter in \"pwskills\":\n",
    "    if letter ==\"l\":\n",
    "        break\n",
    "    print('letter',letter)\n",
    "    "
   ]
  },
  {
   "cell_type": "code",
   "execution_count": 25,
   "id": "634051cb-ae74-49a7-9055-763b9ad0abff",
   "metadata": {},
   "outputs": [
    {
     "name": "stdout",
     "output_type": "stream",
     "text": [
      "0\n",
      "1\n",
      "2\n"
     ]
    }
   ],
   "source": [
    "for i in range(5):\n",
    "    if i==3:\n",
    "        break\n",
    "    print(i)"
   ]
  },
  {
   "cell_type": "code",
   "execution_count": 26,
   "id": "1a8e18db-6c04-4594-9cc4-89f2ca294dc7",
   "metadata": {},
   "outputs": [
    {
     "name": "stdout",
     "output_type": "stream",
     "text": [
      "1\n",
      "2\n",
      "3\n",
      "4\n",
      "5\n"
     ]
    }
   ],
   "source": [
    "i=1\n",
    "\n",
    "while i<=10:\n",
    "    print(i)\n",
    "    if i>=5:\n",
    "        break\n",
    "    i=i+1"
   ]
  },
  {
   "cell_type": "code",
   "execution_count": 27,
   "id": "d0fb860f-e661-4240-89a8-9287176294e0",
   "metadata": {},
   "outputs": [
    {
     "name": "stdout",
     "output_type": "stream",
     "text": [
      "10\n",
      "20\n",
      "30\n",
      "40\n"
     ]
    }
   ],
   "source": [
    "numbers=[10,20,30,40,120,230]\n",
    " \n",
    "for i in numbers:\n",
    "    if i>100:\n",
    "        break\n",
    "    print(i)"
   ]
  },
  {
   "cell_type": "code",
   "execution_count": 28,
   "id": "497d23dc-9b48-4938-a78e-60cfd693b50f",
   "metadata": {},
   "outputs": [
    {
     "name": "stdout",
     "output_type": "stream",
     "text": [
      "h\n",
      "e\n",
      "l\n",
      "l\n",
      "o\n",
      ",\n"
     ]
    }
   ],
   "source": [
    "s=\"hello, world\"\n",
    "for char in s:\n",
    "    print(char)\n",
    "    if char==\",\":\n",
    "        break\n",
    "        "
   ]
  },
  {
   "cell_type": "code",
   "execution_count": null,
   "id": "93cc64a8-f43b-4017-ad6e-46a0302ef1d8",
   "metadata": {},
   "outputs": [],
   "source": [
    "#continue- it will skip the condition"
   ]
  },
  {
   "cell_type": "code",
   "execution_count": 29,
   "id": "c1774c68-c6f8-4281-a725-f73ad7045688",
   "metadata": {},
   "outputs": [
    {
     "name": "stdout",
     "output_type": "stream",
     "text": [
      "p\n",
      "w\n",
      "s\n",
      "k\n",
      "l\n",
      "l\n",
      "s\n"
     ]
    }
   ],
   "source": [
    "for i in \"pwskills\":\n",
    "    if i==\"i\":\n",
    "        continue\n",
    "    print(i)"
   ]
  },
  {
   "cell_type": "code",
   "execution_count": 30,
   "id": "2e8661c0-d781-49c2-890f-16e58524ec70",
   "metadata": {},
   "outputs": [
    {
     "name": "stdout",
     "output_type": "stream",
     "text": [
      "0\n",
      "1\n",
      "2\n",
      "4\n"
     ]
    }
   ],
   "source": [
    "for i in range(5):\n",
    "    if i ==3:\n",
    "        continue\n",
    "    print(i)"
   ]
  },
  {
   "cell_type": "code",
   "execution_count": null,
   "id": "6b96d652-02f3-4fa9-93bd-19c420c530c3",
   "metadata": {},
   "outputs": [],
   "source": [
    "'''brake ----end the loop\n",
    "  continue ----skip the loop'''"
   ]
  },
  {
   "cell_type": "code",
   "execution_count": 31,
   "id": "3d3398a1-1572-43e9-8c49-428164b11852",
   "metadata": {},
   "outputs": [
    {
     "name": "stdout",
     "output_type": "stream",
     "text": [
      "1\n",
      "3\n",
      "5\n",
      "7\n",
      "9\n"
     ]
    }
   ],
   "source": [
    "#print odd numbers in 1 to 10\n",
    "for i in range(11):\n",
    "    if i%2==0:\n",
    "        continue\n",
    "    print(i)"
   ]
  },
  {
   "cell_type": "code",
   "execution_count": 35,
   "id": "d1b61e73-4fdc-498b-8fdd-aa009f04489e",
   "metadata": {},
   "outputs": [
    {
     "name": "stdout",
     "output_type": "stream",
     "text": [
      "hello\n"
     ]
    }
   ],
   "source": [
    "#PASS ---do nothing\n",
    "n=10\n",
    "if n>10:\n",
    "    pass \n",
    "print(\"hello\")"
   ]
  },
  {
   "cell_type": "code",
   "execution_count": null,
   "id": "c28b83bd-9261-48db-9637-dfeb703336c9",
   "metadata": {},
   "outputs": [],
   "source": [
    "#function -reusability of code\n"
   ]
  },
  {
   "cell_type": "code",
   "execution_count": 1,
   "id": "029444c1-b6dd-48c6-bbde-758738d01616",
   "metadata": {},
   "outputs": [],
   "source": [
    "def add_num(a,b):\n",
    "    c=a+b\n",
    "    print(c)"
   ]
  },
  {
   "cell_type": "code",
   "execution_count": 3,
   "id": "f67dc175-1afc-4a05-8c72-9a71c9a2bb02",
   "metadata": {},
   "outputs": [
    {
     "name": "stdout",
     "output_type": "stream",
     "text": [
      "15\n"
     ]
    }
   ],
   "source": [
    "add_num(10,5)"
   ]
  },
  {
   "cell_type": "code",
   "execution_count": 4,
   "id": "70728c88-c462-4636-b886-112d5d1515ca",
   "metadata": {},
   "outputs": [],
   "source": [
    "def mulnum(x,y):\n",
    "    return x*y"
   ]
  },
  {
   "cell_type": "code",
   "execution_count": 5,
   "id": "40dc7944-5497-4d5e-801f-0fbeb076e6ba",
   "metadata": {},
   "outputs": [
    {
     "data": {
      "text/plain": [
       "10"
      ]
     },
     "execution_count": 5,
     "metadata": {},
     "output_type": "execute_result"
    }
   ],
   "source": [
    "mulnum(2,5)"
   ]
  },
  {
   "cell_type": "code",
   "execution_count": 8,
   "id": "d0c8cdb1-cca9-4198-a397-2b2b66f63e80",
   "metadata": {},
   "outputs": [],
   "source": [
    "def absolute(n):\n",
    "    if n>0:\n",
    "        print(n)\n",
    "    else:\n",
    "        print(-n)"
   ]
  },
  {
   "cell_type": "code",
   "execution_count": 9,
   "id": "dcc5e685-0d3c-4bdd-8173-e901466dfac5",
   "metadata": {},
   "outputs": [
    {
     "name": "stdout",
     "output_type": "stream",
     "text": [
      "5\n"
     ]
    }
   ],
   "source": [
    "absolute(-5)"
   ]
  },
  {
   "cell_type": "code",
   "execution_count": 15,
   "id": "5d61a943-b54e-43df-9bf7-629f6526be8c",
   "metadata": {},
   "outputs": [],
   "source": [
    "def fulname(a,b):\n",
    "    c=a+b\n",
    "    return(c)"
   ]
  },
  {
   "cell_type": "code",
   "execution_count": 16,
   "id": "289a51fd-0995-461a-b3f7-66688dd98b7a",
   "metadata": {},
   "outputs": [
    {
     "data": {
      "text/plain": [
       "'monman'"
      ]
     },
     "execution_count": 16,
     "metadata": {},
     "output_type": "execute_result"
    }
   ],
   "source": [
    "fulname('mon',\"man\")"
   ]
  },
  {
   "cell_type": "code",
   "execution_count": 20,
   "id": "89dbb639-5a83-4afc-abc5-020a3434b027",
   "metadata": {},
   "outputs": [],
   "source": [
    "def arith(opt,a,b):\n",
    "    if opt==\"add\":\n",
    "        c=a+b\n",
    "    elif opt==\"diff\":\n",
    "        c=a-b\n",
    "    elif opt==\"mul\":\n",
    "        c=a*b\n",
    "    else:\n",
    "        c=a/b\n",
    "    return(c)"
   ]
  },
  {
   "cell_type": "code",
   "execution_count": 21,
   "id": "cdb3e92d-1a9d-4938-a849-139f417ee9fb",
   "metadata": {},
   "outputs": [
    {
     "data": {
      "text/plain": [
       "3.0"
      ]
     },
     "execution_count": 21,
     "metadata": {},
     "output_type": "execute_result"
    }
   ],
   "source": [
    "arith(\"div\",6,2)"
   ]
  },
  {
   "cell_type": "code",
   "execution_count": 23,
   "id": "0eab9947-f712-4ed0-9f5a-83d67466d874",
   "metadata": {},
   "outputs": [],
   "source": [
    "def cir_area(r):\n",
    "    return(3.14*r*r)"
   ]
  },
  {
   "cell_type": "code",
   "execution_count": 24,
   "id": "c0e10c98-43fc-4d53-82b3-3d07a75e15bb",
   "metadata": {},
   "outputs": [
    {
     "data": {
      "text/plain": [
       "78.5"
      ]
     },
     "execution_count": 24,
     "metadata": {},
     "output_type": "execute_result"
    }
   ],
   "source": [
    "cir_area(5)"
   ]
  },
  {
   "cell_type": "code",
   "execution_count": 29,
   "id": "7f4cddeb-7c74-4f2a-934d-586b64e98544",
   "metadata": {},
   "outputs": [],
   "source": [
    "def area():\n",
    "    l=int(input(\"enter lenth\"))\n",
    "    b=int(input(\"enter breath\"))\n",
    "    return(l*b)"
   ]
  },
  {
   "cell_type": "code",
   "execution_count": 30,
   "id": "24ddf378-2a64-4d41-889f-b919ef99f7a8",
   "metadata": {},
   "outputs": [
    {
     "name": "stdin",
     "output_type": "stream",
     "text": [
      "enter lenth 3\n",
      "enter breath 4\n"
     ]
    },
    {
     "data": {
      "text/plain": [
       "12"
      ]
     },
     "execution_count": 30,
     "metadata": {},
     "output_type": "execute_result"
    }
   ],
   "source": [
    "area()"
   ]
  },
  {
   "cell_type": "code",
   "execution_count": null,
   "id": "6328e2e0-7988-444f-80f5-b36926bcc05c",
   "metadata": {},
   "outputs": [],
   "source": [
    "#Question\n",
    "#1.1. Print the first 5 positive integers in ascending order with one number in each line"
   ]
  },
  {
   "cell_type": "code",
   "execution_count": 34,
   "id": "072bdfaf-fad7-42f7-ae93-675c03e17805",
   "metadata": {},
   "outputs": [
    {
     "name": "stdout",
     "output_type": "stream",
     "text": [
      "0\n",
      "1\n",
      "2\n",
      "3\n",
      "4\n"
     ]
    }
   ],
   "source": [
    "for i in range(5):\n",
    "    print(i)"
   ]
  },
  {
   "cell_type": "code",
   "execution_count": null,
   "id": "60ac8656-9683-4720-9cf5-2f5c944c1017",
   "metadata": {},
   "outputs": [],
   "source": [
    "'''2. Print the following pattern\n",
    "*\n",
    "**\n",
    "***\n",
    "****\n",
    "*****\n",
    "There are no spaces between consecutive stars. There are no spaces \n",
    "at the end of each line.'''"
   ]
  },
  {
   "cell_type": "code",
   "execution_count": null,
   "id": "fbc20152-03fe-47b5-9caa-ce8f7e7634d1",
   "metadata": {},
   "outputs": [],
   "source": []
  },
  {
   "cell_type": "code",
   "execution_count": 37,
   "id": "969b0b3e-4811-4983-81c7-12620929c105",
   "metadata": {},
   "outputs": [],
   "source": [
    "#3. Accept an integer as input and print its square as output.\n",
    "def sq():\n",
    "    a=int(input(\"enter number\"))\n",
    "    return a*a"
   ]
  },
  {
   "cell_type": "code",
   "execution_count": 38,
   "id": "a53bd982-87e5-4b37-9fb9-8289568e9abf",
   "metadata": {},
   "outputs": [
    {
     "name": "stdin",
     "output_type": "stream",
     "text": [
      "enter number 3\n"
     ]
    },
    {
     "data": {
      "text/plain": [
       "9"
      ]
     },
     "execution_count": 38,
     "metadata": {},
     "output_type": "execute_result"
    }
   ],
   "source": [
    "sq()"
   ]
  },
  {
   "cell_type": "code",
   "execution_count": 40,
   "id": "8fe5b6ad-3a4b-48f4-b3db-2b04b4298d21",
   "metadata": {},
   "outputs": [],
   "source": [
    "def word():\n",
    "   w1=input(\"enter the word1\")\n",
    "   w2=input(\"enter the word2\")\n",
    "   return(w1+' '+w2)"
   ]
  },
  {
   "cell_type": "code",
   "execution_count": 41,
   "id": "d64b428e-fd68-428b-be0a-6b936e8f9a09",
   "metadata": {},
   "outputs": [
    {
     "name": "stdin",
     "output_type": "stream",
     "text": [
      "enter the word1 monika\n",
      "enter the word2 mandloi\n"
     ]
    },
    {
     "data": {
      "text/plain": [
       "'monika mandloi'"
      ]
     },
     "execution_count": 41,
     "metadata": {},
     "output_type": "execute_result"
    }
   ],
   "source": [
    "word()"
   ]
  },
  {
   "cell_type": "code",
   "execution_count": 18,
   "id": "59cdaa7e-ef7f-4ebe-be1e-9f18ea7330b4",
   "metadata": {},
   "outputs": [],
   "source": [
    "def even_num():\n",
    "    a,b=input(\"enter num1\").split()\n",
    "    for i in range(int(a),int(b)+1):\n",
    "        if i%2==0:\n",
    "            print(i)"
   ]
  },
  {
   "cell_type": "code",
   "execution_count": 19,
   "id": "8ad9ccec-74e8-417d-9678-43efb97baf80",
   "metadata": {},
   "outputs": [
    {
     "name": "stdin",
     "output_type": "stream",
     "text": [
      "enter num1 2 50\n"
     ]
    },
    {
     "name": "stdout",
     "output_type": "stream",
     "text": [
      "2\n",
      "4\n",
      "6\n",
      "8\n",
      "10\n",
      "12\n",
      "14\n",
      "16\n",
      "18\n",
      "20\n",
      "22\n",
      "24\n",
      "26\n",
      "28\n",
      "30\n",
      "32\n",
      "34\n",
      "36\n",
      "38\n",
      "40\n",
      "42\n",
      "44\n",
      "46\n",
      "48\n",
      "50\n"
     ]
    }
   ],
   "source": [
    "even_num()"
   ]
  },
  {
   "cell_type": "code",
   "execution_count": null,
   "id": "5cda438f-9716-4d60-a979-4ee528df98ae",
   "metadata": {},
   "outputs": [],
   "source": [
    "\n",
    "17.Accept a string as input. Your task is to determine if the input string is a valid password or not. For a \n",
    "string to be a valid password, it must satisfy all the conditions given below:\n",
    "(1) It should have at least 8 and at most 32 characters\n",
    "(2) It should start with an uppercase or lowercase letter\n",
    "(3) It should not have any of these characters: / \\ = ' \"\n",
    "(4) It should not have spaces\n",
    "It could have any character that is not mentioned in the list of characters to be avoided (points 3 and \n",
    "4). Output True if the string forms a valid password and False otherwise"
   ]
  },
  {
   "cell_type": "code",
   "execution_count": null,
   "id": "7b962d80-5cf2-4c7f-a007-3882e88afa54",
   "metadata": {},
   "outputs": [],
   "source": [
    "password=input(\"enter the valid password\")\n",
    "\n",
    "if"
   ]
  }
 ],
 "metadata": {
  "kernelspec": {
   "display_name": "Python 3 (ipykernel)",
   "language": "python",
   "name": "python3"
  },
  "language_info": {
   "codemirror_mode": {
    "name": "ipython",
    "version": 3
   },
   "file_extension": ".py",
   "mimetype": "text/x-python",
   "name": "python",
   "nbconvert_exporter": "python",
   "pygments_lexer": "ipython3",
   "version": "3.10.8"
  }
 },
 "nbformat": 4,
 "nbformat_minor": 5
}
